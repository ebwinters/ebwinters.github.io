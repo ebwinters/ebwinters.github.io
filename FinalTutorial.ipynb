{
 "cells": [
  {
   "cell_type": "code",
   "execution_count": 1,
   "metadata": {},
   "outputs": [],
   "source": []
  },
  {
   "cell_type": "code",
   "execution_count": 16,
   "metadata": {},
   "outputs": [],
   "source": [
    "#Imports for entire project up here\n",
    "import pandas as pd    #formatting data and helpful analysis functions\n",
    "import numpy as np    #helpful analysis functions\n",
    "import matplotlib.pyplot as plt    #Plotting functionality for visualization and alaysis \n",
    "import yaml    #Need for parsing ratings column in step 2\n",
    "from sklearn.linear_model import LinearRegression    #Useful ML library\n",
    "from sklearn.model_selection import train_test_split    #To split data during ML \n",
    "from scipy import stats    #Useful for plotting regression lines"
   ]
  },
  {
   "cell_type": "markdown",
   "metadata": {},
   "source": [
    "# Step 1: Data Collection\n",
    "### Dataset\n",
    "We used the ted talk data set from kaggle.com, a popular data science resource for both beginners and experts. The data set is very extensive and proives both valuable and irrelevant data for our project. Essentially, the data set has metrics on every ted talk regarding the date, the amount of views, word maps of review buzzwords, and other data that we will use later on. <br><br>\n",
    "We obtained the data by downloading a CSV file and using the Pandas function for reading a comma separated value file (CSV). Pandas provides a tested and trusted function to do this, so trying to make our own would be foolish. The CSV file is in the same directory as this notebook, which is why the path we specifiy to read it in is just the file name itself. <br><br>\n",
    "In the next step after thise, we will clean the data so it can be used for analysis, machine learning, and easy plotting. \n",
    "\n",
    "### Related links\n",
    "Kaggle data source: https://www.kaggle.com/rounakbanik/ted-talks <br>\n",
    "Reading in CSV files with Pandas: https://www.datacamp.com/community/tutorials/pandas-read-csv"
   ]
  },
  {
   "cell_type": "code",
   "execution_count": 2,
   "metadata": {},
   "outputs": [
    {
     "data": {
      "text/html": [
       "<div>\n",
       "<style scoped>\n",
       "    .dataframe tbody tr th:only-of-type {\n",
       "        vertical-align: middle;\n",
       "    }\n",
       "\n",
       "    .dataframe tbody tr th {\n",
       "        vertical-align: top;\n",
       "    }\n",
       "\n",
       "    .dataframe thead th {\n",
       "        text-align: right;\n",
       "    }\n",
       "</style>\n",
       "<table border=\"1\" class=\"dataframe\">\n",
       "  <thead>\n",
       "    <tr style=\"text-align: right;\">\n",
       "      <th></th>\n",
       "      <th>comments</th>\n",
       "      <th>description</th>\n",
       "      <th>duration</th>\n",
       "      <th>event</th>\n",
       "      <th>film_date</th>\n",
       "      <th>languages</th>\n",
       "      <th>main_speaker</th>\n",
       "      <th>name</th>\n",
       "      <th>num_speaker</th>\n",
       "      <th>published_date</th>\n",
       "      <th>ratings</th>\n",
       "      <th>related_talks</th>\n",
       "      <th>speaker_occupation</th>\n",
       "      <th>tags</th>\n",
       "      <th>title</th>\n",
       "      <th>url</th>\n",
       "      <th>views</th>\n",
       "    </tr>\n",
       "  </thead>\n",
       "  <tbody>\n",
       "    <tr>\n",
       "      <th>0</th>\n",
       "      <td>4553</td>\n",
       "      <td>Sir Ken Robinson makes an entertaining and pro...</td>\n",
       "      <td>1164</td>\n",
       "      <td>TED2006</td>\n",
       "      <td>1140825600</td>\n",
       "      <td>60</td>\n",
       "      <td>Ken Robinson</td>\n",
       "      <td>Ken Robinson: Do schools kill creativity?</td>\n",
       "      <td>1</td>\n",
       "      <td>1151367060</td>\n",
       "      <td>[{'id': 7, 'name': 'Funny', 'count': 19645}, {...</td>\n",
       "      <td>[{'id': 865, 'hero': 'https://pe.tedcdn.com/im...</td>\n",
       "      <td>Author/educator</td>\n",
       "      <td>['children', 'creativity', 'culture', 'dance',...</td>\n",
       "      <td>Do schools kill creativity?</td>\n",
       "      <td>https://www.ted.com/talks/ken_robinson_says_sc...</td>\n",
       "      <td>47227110</td>\n",
       "    </tr>\n",
       "    <tr>\n",
       "      <th>1</th>\n",
       "      <td>265</td>\n",
       "      <td>With the same humor and humanity he exuded in ...</td>\n",
       "      <td>977</td>\n",
       "      <td>TED2006</td>\n",
       "      <td>1140825600</td>\n",
       "      <td>43</td>\n",
       "      <td>Al Gore</td>\n",
       "      <td>Al Gore: Averting the climate crisis</td>\n",
       "      <td>1</td>\n",
       "      <td>1151367060</td>\n",
       "      <td>[{'id': 7, 'name': 'Funny', 'count': 544}, {'i...</td>\n",
       "      <td>[{'id': 243, 'hero': 'https://pe.tedcdn.com/im...</td>\n",
       "      <td>Climate advocate</td>\n",
       "      <td>['alternative energy', 'cars', 'climate change...</td>\n",
       "      <td>Averting the climate crisis</td>\n",
       "      <td>https://www.ted.com/talks/al_gore_on_averting_...</td>\n",
       "      <td>3200520</td>\n",
       "    </tr>\n",
       "    <tr>\n",
       "      <th>2</th>\n",
       "      <td>124</td>\n",
       "      <td>New York Times columnist David Pogue takes aim...</td>\n",
       "      <td>1286</td>\n",
       "      <td>TED2006</td>\n",
       "      <td>1140739200</td>\n",
       "      <td>26</td>\n",
       "      <td>David Pogue</td>\n",
       "      <td>David Pogue: Simplicity sells</td>\n",
       "      <td>1</td>\n",
       "      <td>1151367060</td>\n",
       "      <td>[{'id': 7, 'name': 'Funny', 'count': 964}, {'i...</td>\n",
       "      <td>[{'id': 1725, 'hero': 'https://pe.tedcdn.com/i...</td>\n",
       "      <td>Technology columnist</td>\n",
       "      <td>['computers', 'entertainment', 'interface desi...</td>\n",
       "      <td>Simplicity sells</td>\n",
       "      <td>https://www.ted.com/talks/david_pogue_says_sim...</td>\n",
       "      <td>1636292</td>\n",
       "    </tr>\n",
       "    <tr>\n",
       "      <th>3</th>\n",
       "      <td>200</td>\n",
       "      <td>In an emotionally charged talk, MacArthur-winn...</td>\n",
       "      <td>1116</td>\n",
       "      <td>TED2006</td>\n",
       "      <td>1140912000</td>\n",
       "      <td>35</td>\n",
       "      <td>Majora Carter</td>\n",
       "      <td>Majora Carter: Greening the ghetto</td>\n",
       "      <td>1</td>\n",
       "      <td>1151367060</td>\n",
       "      <td>[{'id': 3, 'name': 'Courageous', 'count': 760}...</td>\n",
       "      <td>[{'id': 1041, 'hero': 'https://pe.tedcdn.com/i...</td>\n",
       "      <td>Activist for environmental justice</td>\n",
       "      <td>['MacArthur grant', 'activism', 'business', 'c...</td>\n",
       "      <td>Greening the ghetto</td>\n",
       "      <td>https://www.ted.com/talks/majora_carter_s_tale...</td>\n",
       "      <td>1697550</td>\n",
       "    </tr>\n",
       "    <tr>\n",
       "      <th>4</th>\n",
       "      <td>593</td>\n",
       "      <td>You've never seen data presented like this. Wi...</td>\n",
       "      <td>1190</td>\n",
       "      <td>TED2006</td>\n",
       "      <td>1140566400</td>\n",
       "      <td>48</td>\n",
       "      <td>Hans Rosling</td>\n",
       "      <td>Hans Rosling: The best stats you've ever seen</td>\n",
       "      <td>1</td>\n",
       "      <td>1151440680</td>\n",
       "      <td>[{'id': 9, 'name': 'Ingenious', 'count': 3202}...</td>\n",
       "      <td>[{'id': 2056, 'hero': 'https://pe.tedcdn.com/i...</td>\n",
       "      <td>Global health expert; data visionary</td>\n",
       "      <td>['Africa', 'Asia', 'Google', 'demo', 'economic...</td>\n",
       "      <td>The best stats you've ever seen</td>\n",
       "      <td>https://www.ted.com/talks/hans_rosling_shows_t...</td>\n",
       "      <td>12005869</td>\n",
       "    </tr>\n",
       "  </tbody>\n",
       "</table>\n",
       "</div>"
      ],
      "text/plain": [
       "   comments                                        description  duration  \\\n",
       "0      4553  Sir Ken Robinson makes an entertaining and pro...      1164   \n",
       "1       265  With the same humor and humanity he exuded in ...       977   \n",
       "2       124  New York Times columnist David Pogue takes aim...      1286   \n",
       "3       200  In an emotionally charged talk, MacArthur-winn...      1116   \n",
       "4       593  You've never seen data presented like this. Wi...      1190   \n",
       "\n",
       "     event   film_date  languages   main_speaker  \\\n",
       "0  TED2006  1140825600         60   Ken Robinson   \n",
       "1  TED2006  1140825600         43        Al Gore   \n",
       "2  TED2006  1140739200         26    David Pogue   \n",
       "3  TED2006  1140912000         35  Majora Carter   \n",
       "4  TED2006  1140566400         48   Hans Rosling   \n",
       "\n",
       "                                            name  num_speaker  published_date  \\\n",
       "0      Ken Robinson: Do schools kill creativity?            1      1151367060   \n",
       "1           Al Gore: Averting the climate crisis            1      1151367060   \n",
       "2                  David Pogue: Simplicity sells            1      1151367060   \n",
       "3             Majora Carter: Greening the ghetto            1      1151367060   \n",
       "4  Hans Rosling: The best stats you've ever seen            1      1151440680   \n",
       "\n",
       "                                             ratings  \\\n",
       "0  [{'id': 7, 'name': 'Funny', 'count': 19645}, {...   \n",
       "1  [{'id': 7, 'name': 'Funny', 'count': 544}, {'i...   \n",
       "2  [{'id': 7, 'name': 'Funny', 'count': 964}, {'i...   \n",
       "3  [{'id': 3, 'name': 'Courageous', 'count': 760}...   \n",
       "4  [{'id': 9, 'name': 'Ingenious', 'count': 3202}...   \n",
       "\n",
       "                                       related_talks  \\\n",
       "0  [{'id': 865, 'hero': 'https://pe.tedcdn.com/im...   \n",
       "1  [{'id': 243, 'hero': 'https://pe.tedcdn.com/im...   \n",
       "2  [{'id': 1725, 'hero': 'https://pe.tedcdn.com/i...   \n",
       "3  [{'id': 1041, 'hero': 'https://pe.tedcdn.com/i...   \n",
       "4  [{'id': 2056, 'hero': 'https://pe.tedcdn.com/i...   \n",
       "\n",
       "                     speaker_occupation  \\\n",
       "0                       Author/educator   \n",
       "1                      Climate advocate   \n",
       "2                  Technology columnist   \n",
       "3    Activist for environmental justice   \n",
       "4  Global health expert; data visionary   \n",
       "\n",
       "                                                tags  \\\n",
       "0  ['children', 'creativity', 'culture', 'dance',...   \n",
       "1  ['alternative energy', 'cars', 'climate change...   \n",
       "2  ['computers', 'entertainment', 'interface desi...   \n",
       "3  ['MacArthur grant', 'activism', 'business', 'c...   \n",
       "4  ['Africa', 'Asia', 'Google', 'demo', 'economic...   \n",
       "\n",
       "                             title  \\\n",
       "0      Do schools kill creativity?   \n",
       "1      Averting the climate crisis   \n",
       "2                 Simplicity sells   \n",
       "3              Greening the ghetto   \n",
       "4  The best stats you've ever seen   \n",
       "\n",
       "                                                 url     views  \n",
       "0  https://www.ted.com/talks/ken_robinson_says_sc...  47227110  \n",
       "1  https://www.ted.com/talks/al_gore_on_averting_...   3200520  \n",
       "2  https://www.ted.com/talks/david_pogue_says_sim...   1636292  \n",
       "3  https://www.ted.com/talks/majora_carter_s_tale...   1697550  \n",
       "4  https://www.ted.com/talks/hans_rosling_shows_t...  12005869  "
      ]
     },
     "execution_count": 2,
     "metadata": {},
     "output_type": "execute_result"
    }
   ],
   "source": [
    "#Step 1: Data Collection\n",
    "#use pd.read_csv to read in the \"dirty\" data into a dataframe. We will clean this data in the next step.\n",
    "ted_df = pd.read_csv(\"ted_main.csv\")\n",
    "#display the head of the dataframe for easy viewing and a quick look at the un-clean data\n",
    "ted_df.head()"
   ]
  },
  {
   "cell_type": "code",
   "execution_count": 3,
   "metadata": {},
   "outputs": [
    {
     "data": {
      "text/html": [
       "<div>\n",
       "<style scoped>\n",
       "    .dataframe tbody tr th:only-of-type {\n",
       "        vertical-align: middle;\n",
       "    }\n",
       "\n",
       "    .dataframe tbody tr th {\n",
       "        vertical-align: top;\n",
       "    }\n",
       "\n",
       "    .dataframe thead th {\n",
       "        text-align: right;\n",
       "    }\n",
       "</style>\n",
       "<table border=\"1\" class=\"dataframe\">\n",
       "  <thead>\n",
       "    <tr style=\"text-align: right;\">\n",
       "      <th></th>\n",
       "      <th>comments</th>\n",
       "      <th>duration</th>\n",
       "      <th>film_date</th>\n",
       "      <th>languages</th>\n",
       "      <th>published_date</th>\n",
       "      <th>ratings</th>\n",
       "      <th>title</th>\n",
       "      <th>views</th>\n",
       "    </tr>\n",
       "  </thead>\n",
       "  <tbody>\n",
       "    <tr>\n",
       "      <th>0</th>\n",
       "      <td>4553</td>\n",
       "      <td>1164</td>\n",
       "      <td>2006-02-25</td>\n",
       "      <td>60</td>\n",
       "      <td>2006-06-27 00:11:00</td>\n",
       "      <td>[{'id': 7, 'name': 'Funny', 'count': 19645}, {...</td>\n",
       "      <td>Do schools kill creativity?</td>\n",
       "      <td>47227110</td>\n",
       "    </tr>\n",
       "    <tr>\n",
       "      <th>1</th>\n",
       "      <td>265</td>\n",
       "      <td>977</td>\n",
       "      <td>2006-02-25</td>\n",
       "      <td>43</td>\n",
       "      <td>2006-06-27 00:11:00</td>\n",
       "      <td>[{'id': 7, 'name': 'Funny', 'count': 544}, {'i...</td>\n",
       "      <td>Averting the climate crisis</td>\n",
       "      <td>3200520</td>\n",
       "    </tr>\n",
       "    <tr>\n",
       "      <th>2</th>\n",
       "      <td>124</td>\n",
       "      <td>1286</td>\n",
       "      <td>2006-02-24</td>\n",
       "      <td>26</td>\n",
       "      <td>2006-06-27 00:11:00</td>\n",
       "      <td>[{'id': 7, 'name': 'Funny', 'count': 964}, {'i...</td>\n",
       "      <td>Simplicity sells</td>\n",
       "      <td>1636292</td>\n",
       "    </tr>\n",
       "    <tr>\n",
       "      <th>3</th>\n",
       "      <td>200</td>\n",
       "      <td>1116</td>\n",
       "      <td>2006-02-26</td>\n",
       "      <td>35</td>\n",
       "      <td>2006-06-27 00:11:00</td>\n",
       "      <td>[{'id': 3, 'name': 'Courageous', 'count': 760}...</td>\n",
       "      <td>Greening the ghetto</td>\n",
       "      <td>1697550</td>\n",
       "    </tr>\n",
       "    <tr>\n",
       "      <th>4</th>\n",
       "      <td>593</td>\n",
       "      <td>1190</td>\n",
       "      <td>2006-02-22</td>\n",
       "      <td>48</td>\n",
       "      <td>2006-06-27 20:38:00</td>\n",
       "      <td>[{'id': 9, 'name': 'Ingenious', 'count': 3202}...</td>\n",
       "      <td>The best stats you've ever seen</td>\n",
       "      <td>12005869</td>\n",
       "    </tr>\n",
       "  </tbody>\n",
       "</table>\n",
       "</div>"
      ],
      "text/plain": [
       "   comments  duration  film_date  languages      published_date  \\\n",
       "0      4553      1164 2006-02-25         60 2006-06-27 00:11:00   \n",
       "1       265       977 2006-02-25         43 2006-06-27 00:11:00   \n",
       "2       124      1286 2006-02-24         26 2006-06-27 00:11:00   \n",
       "3       200      1116 2006-02-26         35 2006-06-27 00:11:00   \n",
       "4       593      1190 2006-02-22         48 2006-06-27 20:38:00   \n",
       "\n",
       "                                             ratings  \\\n",
       "0  [{'id': 7, 'name': 'Funny', 'count': 19645}, {...   \n",
       "1  [{'id': 7, 'name': 'Funny', 'count': 544}, {'i...   \n",
       "2  [{'id': 7, 'name': 'Funny', 'count': 964}, {'i...   \n",
       "3  [{'id': 3, 'name': 'Courageous', 'count': 760}...   \n",
       "4  [{'id': 9, 'name': 'Ingenious', 'count': 3202}...   \n",
       "\n",
       "                             title     views  \n",
       "0      Do schools kill creativity?  47227110  \n",
       "1      Averting the climate crisis   3200520  \n",
       "2                 Simplicity sells   1636292  \n",
       "3              Greening the ghetto   1697550  \n",
       "4  The best stats you've ever seen  12005869  "
      ]
     },
     "execution_count": 3,
     "metadata": {},
     "output_type": "execute_result"
    }
   ],
   "source": [
    "#Step 2: Data Processing\n",
    "#in this step we will clean the data so that it can be used in later on steps\n",
    "#drop description\n",
    "ted_df = ted_df.drop(['description'], axis=1)\n",
    "#drop event\n",
    "ted_df = ted_df.drop(['event'], axis=1)\n",
    "#change film_date from unix time to yyyy-mm-dd\n",
    "ted_df['film_date'] = pd.to_datetime(ted_df['film_date'],unit='s')\n",
    "#drop main_speaker\n",
    "ted_df = ted_df.drop(['main_speaker'], axis=1)\n",
    "#drop num_speaker\n",
    "ted_df = ted_df.drop(['num_speaker'], axis=1)\n",
    "#drop name\n",
    "ted_df = ted_df.drop(['name'], axis=1)\n",
    "#change published_date from unix time to yyyy-mm-dd\n",
    "ted_df['published_date'] = pd.to_datetime(ted_df['published_date'],unit='s')\n",
    "#drop related_talks\n",
    "ted_df = ted_df.drop(['related_talks'], axis=1)\n",
    "#drop speaker_occupation\n",
    "ted_df = ted_df.drop(['speaker_occupation'], axis=1)\n",
    "#drop tags\n",
    "ted_df = ted_df.drop(['tags'], axis=1)\n",
    "#drop url\n",
    "ted_df = ted_df.drop(['url'], axis=1)\n",
    "#Display head to see mostly cleaned data\n",
    "ted_df.head()  "
   ]
  },
  {
   "cell_type": "code",
   "execution_count": 4,
   "metadata": {},
   "outputs": [
    {
     "data": {
      "text/plain": [
       "'\\nPut markdown here\\nNow that we have a simplified dataframe, lets tackle that ratings column but splitting each word name into its\\nown column with count as the value. We will use this column in the ML portion later on\\n'"
      ]
     },
     "execution_count": 4,
     "metadata": {},
     "output_type": "execute_result"
    }
   ],
   "source": [
    "\"\"\"\n",
    "Put markdown here\n",
    "Now that we have a simplified dataframe, lets tackle that ratings column but splitting each word name into its\n",
    "own column with count as the value. We will use this column in the ML portion later on\n",
    "\"\"\""
   ]
  },
  {
   "cell_type": "code",
   "execution_count": 5,
   "metadata": {},
   "outputs": [
    {
     "name": "stderr",
     "output_type": "stream",
     "text": [
      "/opt/conda/lib/python3.6/site-packages/ipykernel_launcher.py:22: FutureWarning: set_value is deprecated and will be removed in a future release. Please use .at[] or .iat[] accessors instead\n",
      "/opt/conda/lib/python3.6/site-packages/ipykernel_launcher.py:23: FutureWarning: set_value is deprecated and will be removed in a future release. Please use .at[] or .iat[] accessors instead\n",
      "/opt/conda/lib/python3.6/site-packages/ipykernel_launcher.py:24: FutureWarning: set_value is deprecated and will be removed in a future release. Please use .at[] or .iat[] accessors instead\n",
      "/opt/conda/lib/python3.6/site-packages/ipykernel_launcher.py:25: FutureWarning: set_value is deprecated and will be removed in a future release. Please use .at[] or .iat[] accessors instead\n"
     ]
    },
    {
     "data": {
      "text/html": [
       "<div>\n",
       "<style scoped>\n",
       "    .dataframe tbody tr th:only-of-type {\n",
       "        vertical-align: middle;\n",
       "    }\n",
       "\n",
       "    .dataframe tbody tr th {\n",
       "        vertical-align: top;\n",
       "    }\n",
       "\n",
       "    .dataframe thead th {\n",
       "        text-align: right;\n",
       "    }\n",
       "</style>\n",
       "<table border=\"1\" class=\"dataframe\">\n",
       "  <thead>\n",
       "    <tr style=\"text-align: right;\">\n",
       "      <th></th>\n",
       "      <th>comments</th>\n",
       "      <th>duration</th>\n",
       "      <th>film_date</th>\n",
       "      <th>languages</th>\n",
       "      <th>published_date</th>\n",
       "      <th>title</th>\n",
       "      <th>views</th>\n",
       "      <th>insp_rating</th>\n",
       "      <th>fun_rating</th>\n",
       "      <th>inf_rating</th>\n",
       "      <th>fasc_rating</th>\n",
       "    </tr>\n",
       "  </thead>\n",
       "  <tbody>\n",
       "    <tr>\n",
       "      <th>0</th>\n",
       "      <td>4553</td>\n",
       "      <td>1164</td>\n",
       "      <td>2006-02-25</td>\n",
       "      <td>60</td>\n",
       "      <td>2006-06-27 00:11:00</td>\n",
       "      <td>Do schools kill creativity?</td>\n",
       "      <td>47227110</td>\n",
       "      <td>24924.0</td>\n",
       "      <td>19645.0</td>\n",
       "      <td>7346.0</td>\n",
       "      <td>10581.0</td>\n",
       "    </tr>\n",
       "    <tr>\n",
       "      <th>1</th>\n",
       "      <td>265</td>\n",
       "      <td>977</td>\n",
       "      <td>2006-02-25</td>\n",
       "      <td>43</td>\n",
       "      <td>2006-06-27 00:11:00</td>\n",
       "      <td>Averting the climate crisis</td>\n",
       "      <td>3200520</td>\n",
       "      <td>413.0</td>\n",
       "      <td>544.0</td>\n",
       "      <td>443.0</td>\n",
       "      <td>132.0</td>\n",
       "    </tr>\n",
       "    <tr>\n",
       "      <th>2</th>\n",
       "      <td>124</td>\n",
       "      <td>1286</td>\n",
       "      <td>2006-02-24</td>\n",
       "      <td>26</td>\n",
       "      <td>2006-06-27 00:11:00</td>\n",
       "      <td>Simplicity sells</td>\n",
       "      <td>1636292</td>\n",
       "      <td>230.0</td>\n",
       "      <td>964.0</td>\n",
       "      <td>395.0</td>\n",
       "      <td>166.0</td>\n",
       "    </tr>\n",
       "    <tr>\n",
       "      <th>3</th>\n",
       "      <td>200</td>\n",
       "      <td>1116</td>\n",
       "      <td>2006-02-26</td>\n",
       "      <td>35</td>\n",
       "      <td>2006-06-27 00:11:00</td>\n",
       "      <td>Greening the ghetto</td>\n",
       "      <td>1697550</td>\n",
       "      <td>1070.0</td>\n",
       "      <td>59.0</td>\n",
       "      <td>380.0</td>\n",
       "      <td>132.0</td>\n",
       "    </tr>\n",
       "    <tr>\n",
       "      <th>4</th>\n",
       "      <td>593</td>\n",
       "      <td>1190</td>\n",
       "      <td>2006-02-22</td>\n",
       "      <td>48</td>\n",
       "      <td>2006-06-27 20:38:00</td>\n",
       "      <td>The best stats you've ever seen</td>\n",
       "      <td>12005869</td>\n",
       "      <td>2893.0</td>\n",
       "      <td>1390.0</td>\n",
       "      <td>5433.0</td>\n",
       "      <td>4606.0</td>\n",
       "    </tr>\n",
       "  </tbody>\n",
       "</table>\n",
       "</div>"
      ],
      "text/plain": [
       "   comments  duration  film_date  languages      published_date  \\\n",
       "0      4553      1164 2006-02-25         60 2006-06-27 00:11:00   \n",
       "1       265       977 2006-02-25         43 2006-06-27 00:11:00   \n",
       "2       124      1286 2006-02-24         26 2006-06-27 00:11:00   \n",
       "3       200      1116 2006-02-26         35 2006-06-27 00:11:00   \n",
       "4       593      1190 2006-02-22         48 2006-06-27 20:38:00   \n",
       "\n",
       "                             title     views  insp_rating  fun_rating  \\\n",
       "0      Do schools kill creativity?  47227110      24924.0     19645.0   \n",
       "1      Averting the climate crisis   3200520        413.0       544.0   \n",
       "2                 Simplicity sells   1636292        230.0       964.0   \n",
       "3              Greening the ghetto   1697550       1070.0        59.0   \n",
       "4  The best stats you've ever seen  12005869       2893.0      1390.0   \n",
       "\n",
       "   inf_rating  fasc_rating  \n",
       "0      7346.0      10581.0  \n",
       "1       443.0        132.0  \n",
       "2       395.0        166.0  \n",
       "3       380.0        132.0  \n",
       "4      5433.0       4606.0  "
      ]
     },
     "execution_count": 5,
     "metadata": {},
     "output_type": "execute_result"
    }
   ],
   "source": [
    "#we will write a function to split the ratings column into their own columns to be used later called split_ratings\n",
    "def split_ratings(row):    #feed in a row of the dataframe\n",
    "    r = row['ratings']\n",
    "    values = yaml.load(r)    #transform the string dictionary representation to an actual dictionary\n",
    "    insp_count = 0    #initialize counts for words that we decided to track\n",
    "    fun_count = 0\n",
    "    inf_count = 0\n",
    "    fasc_count = 0\n",
    "    for word_rating in values:    #loop through dictionary and pick out values of words we care about\n",
    "        if word_rating['id'] == 10:    #inspiring\n",
    "            insp_count = word_rating['count']\n",
    "        if word_rating['id'] == 7:    #funny\n",
    "            fun_count = word_rating['count']\n",
    "        if word_rating['id'] == 8:    #informative\n",
    "            inf_count = word_rating['count']\n",
    "        if word_rating['id'] == 22:    #fascinating\n",
    "            fasc_count = word_rating['count']\n",
    "    return [insp_count, fun_count, inf_count, fasc_count]    #return a list of values to apply to dataframe\n",
    "\n",
    "for index, row in ted_df.iterrows():\n",
    "    values = split_ratings(row)    #call above function on row, store the list of 4 values in \"values\" variable\n",
    "    ted_df.set_value(index,'insp_rating',values[0])    #set new dataframe column values accoringly for counts of words\n",
    "    ted_df.set_value(index,'fun_rating',values[1])\n",
    "    ted_df.set_value(index,'inf_rating',values[2])\n",
    "    ted_df.set_value(index,'fasc_rating',values[3])\n",
    "#drop ratings, we no longer need it\n",
    "ted_df = ted_df.drop(['ratings'], axis=1)\n",
    "#show head\n",
    "ted_df.head()"
   ]
  },
  {
   "cell_type": "code",
   "execution_count": 50,
   "metadata": {},
   "outputs": [
    {
     "name": "stdout",
     "output_type": "stream",
     "text": [
      "2550\n",
      "826.510196078\n",
      "374.009138019\n",
      "191.562352941\n"
     ]
    }
   ],
   "source": [
    "#Step 3: Exploratory Data Analysis & Data Visualization\n",
    "#lets take a look at some data points first, and get more familiar with our data\n",
    "\n",
    "#how many data points (rows) do we have?\n",
    "print (len(ted_df))\n",
    "#what is the average duration of a ted talk (in seconds)?\n",
    "print (ted_df['duration'].mean())\n",
    "#what is the standard deviation for duration of a ted talk (in seconds)?\n",
    "print (ted_df['duration'].std())\n",
    "#what is the average amount of comments on a ted talk?\n",
    "print (ted_df['comments'].mean())"
   ]
  },
  {
   "cell_type": "code",
   "execution_count": 6,
   "metadata": {},
   "outputs": [
    {
     "data": {
      "text/plain": [
       "Text(0.5,1,'Number of Ted Talks Produced Per Month Overall')"
      ]
     },
     "execution_count": 6,
     "metadata": {},
     "output_type": "execute_result"
    },
    {
     "data": {
      "image/png": "[encoded data removed]",
      "text/plain": [
       "<Figure size 432x288 with 1 Axes>"
      ]
     },
     "metadata": {},
     "output_type": "display_data"
    }
   ],
   "source": [
    "#we will plot a bar graph for the number ted talks done for each month over all ted talks\n",
    "#we use a groupby function to group the dataframe by month on film date\n",
    "ted_df.groupby(ted_df[\"film_date\"].dt.month)['film_date'].count().plot(kind=\"bar\")\n",
    "#Edit labels \n",
    "plt.ylabel('Number of Ted Talks Produced')\n",
    "plt.xlabel('Month')\n",
    "plt.title('Number of Ted Talks Produced Per Month Overall')"
   ]
  },
  {
   "cell_type": "code",
   "execution_count": 7,
   "metadata": {},
   "outputs": [
    {
     "data": {
      "text/plain": [
       "Text(0.5,1,'Number of Ted Talks Produced Per Year Overall')"
      ]
     },
     "execution_count": 7,
     "metadata": {},
     "output_type": "execute_result"
    },
    {
     "data": {
      "image/png": "[encoded data removed]",
      "text/plain": [
       "<Figure size 432x288 with 1 Axes>"
      ]
     },
     "metadata": {},
     "output_type": "display_data"
    }
   ],
   "source": [
    "#now we will plot a bar graph for the number ted talks done for each year over all ted talks\n",
    "#we use a groupby function to group the dataframe by year on film date\n",
    "ted_df.groupby(ted_df[\"film_date\"].dt.year)['film_date'].count().plot(kind=\"bar\")\n",
    "#Edit labels \n",
    "plt.ylabel('Number of Ted Talks Produced')\n",
    "plt.xlabel('Year')\n",
    "plt.title('Number of Ted Talks Produced Per Year Overall')"
   ]
  },
  {
   "cell_type": "code",
   "execution_count": 35,
   "metadata": {},
   "outputs": [
    {
     "data": {
      "text/plain": [
       "Text(0.5,1,'Number of Views Versus Languages Available')"
      ]
     },
     "execution_count": 35,
     "metadata": {},
     "output_type": "execute_result"
    },
    {
     "data": {
      "image/png": "[encoded data removed]",
      "text/plain": [
       "<Figure size 432x288 with 1 Axes>"
      ]
     },
     "metadata": {},
     "output_type": "display_data"
    }
   ],
   "source": [
    "#now we will plot the amount of languages the talk is available in vs the amount of total views\n",
    "plt.scatter(ted_df['languages'], ted_df['views']/1000000)\n",
    "plt.ylabel('Number of Views (millions)')\n",
    "plt.xlabel('Number of Languages Available')\n",
    "plt.title('Number of Views Versus Languages Available')"
   ]
  },
  {
   "cell_type": "code",
   "execution_count": 39,
   "metadata": {},
   "outputs": [
    {
     "data": {
      "text/plain": [
       "Text(0.5,1,'Number of Comments Each Year on Ted Videos')"
      ]
     },
     "execution_count": 39,
     "metadata": {},
     "output_type": "execute_result"
    },
    {
     "data": {
      "image/png": "[encoded data removed]",
      "text/plain": [
       "<Figure size 432x288 with 1 Axes>"
      ]
     },
     "metadata": {},
     "output_type": "display_data"
    }
   ],
   "source": [
    "#lets take a look at the amount of comments over the years\n",
    "ted_df.groupby(ted_df[\"film_date\"].dt.year)['comments'].sum().plot(kind=\"bar\")\n",
    "plt.ylabel('Number of Comments')\n",
    "plt.xlabel('Year')\n",
    "plt.title('Number of Comments Each Year on Ted Videos')"
   ]
  },
  {
   "cell_type": "markdown",
   "metadata": {},
   "source": [
    "# Step 4: Analysis, Hypothesis Tests, and Machine Learning\n",
    "\n",
    "### Models Trained\n",
    "In this section, we will train two models. One model will be used to predict views based on rating buzzword counts, and the other will be used to predict the number of comments on the ted talk.\n",
    "\n",
    "### Training Algorithms\n",
    "We will use linear regression models for all of our models. This is because we are not trying to classify data into sets, but instead predict the actual value of a particular variable.\n",
    "\n",
    "### Related Links\n",
    "A great overview of linear regression: https://towardsdatascience.com/linear-regression-detailed-view-ea73175f6e86 <br>\n"
   ]
  },
  {
   "cell_type": "code",
   "execution_count": 8,
   "metadata": {
    "scrolled": true
   },
   "outputs": [],
   "source": [
    "#Step 4: Analysis, Hypothesis Testing, and Machine Learning \n",
    "#we want to be able to predict the amount of views/comments that a ted talk will have based on the rating counts of the buzzwords\n",
    "#that we selected (inspiring, funny, informative, fascinating)"
   ]
  },
  {
   "cell_type": "markdown",
   "metadata": {},
   "source": [
    "### Before we get into the hard stuff\n",
    "Let's make sure that we have an evident correlation between our ratings and views/comments. To do this we can plot the data along with a line that we generate using a linear regression module from the `stats` library. We are looking for data points that generally move in the same direction, and have few outliers."
   ]
  },
  {
   "cell_type": "code",
   "execution_count": 10,
   "metadata": {},
   "outputs": [
    {
     "data": {
      "text/plain": [
       "Text(0.5,1,'Number of Views Versus Inspiration Rating Count')"
      ]
     },
     "execution_count": 10,
     "metadata": {},
     "output_type": "execute_result"
    },
    {
     "data": {
      "image/png": "[encoded data removed]",
      "text/plain": [
       "<Figure size 432x288 with 1 Axes>"
      ]
     },
     "metadata": {},
     "output_type": "display_data"
    }
   ],
   "source": [
    "#Now, lets look at the simple relationships between the buzzwords we selected and views, which we will examine further\n",
    "#in the machine learning portion\n",
    "#calculate the slope and intercept of the regression line using the stats library\n",
    "#divide views by 1000000 to make the data easier to read\n",
    "slope, intercept, r_value, p_value, std_err = stats.linregress(ted_df['insp_rating'],ted_df['views']/1000000)\n",
    "#make a line in the form of y=mx+b\n",
    "line = slope*ted_df['insp_rating']+intercept\n",
    "#plot the line\n",
    "plt.plot(ted_df['insp_rating'],ted_df['views']/1000000,'o', ted_df['insp_rating'], line)\n",
    "#plot the relationship\n",
    "plt.scatter(ted_df['insp_rating'], ted_df['views']/1000000)\n",
    "plt.ylabel('Number of Views (millions)')\n",
    "plt.xlabel('Inspiration Rating Count')\n",
    "plt.title('Number of Views Versus Inspiration Rating Count')"
   ]
  },
  {
   "cell_type": "code",
   "execution_count": 11,
   "metadata": {},
   "outputs": [
    {
     "data": {
      "text/plain": [
       "Text(0.5,1,'Number of Views Versus Funny Rating Count')"
      ]
     },
     "execution_count": 11,
     "metadata": {},
     "output_type": "execute_result"
    },
    {
     "data": {
      "image/png": "[encoded data removed]",
      "text/plain": [
       "<Figure size 432x288 with 1 Axes>"
      ]
     },
     "metadata": {},
     "output_type": "display_data"
    }
   ],
   "source": [
    "slope, intercept, r_value, p_value, std_err = stats.linregress(ted_df['fun_rating'],ted_df['views']/1000000)\n",
    "line = slope*ted_df['fun_rating']+intercept\n",
    "plt.plot(ted_df['fun_rating'],ted_df['views']/1000000,'o', ted_df['fun_rating'], line)\n",
    "plt.scatter(ted_df['fun_rating'], ted_df['views']/1000000)\n",
    "plt.ylabel('Number of Views (millions)')\n",
    "plt.xlabel('Funny Rating Count')\n",
    "plt.title('Number of Views Versus Funny Rating Count')"
   ]
  },
  {
   "cell_type": "code",
   "execution_count": 12,
   "metadata": {},
   "outputs": [
    {
     "data": {
      "text/plain": [
       "Text(0.5,1,'Number of Views Versus Informative Rating Count')"
      ]
     },
     "execution_count": 12,
     "metadata": {},
     "output_type": "execute_result"
    },
    {
     "data": {
      "image/png": "[encoded data removed]",
      "text/plain": [
       "<Figure size 432x288 with 1 Axes>"
      ]
     },
     "metadata": {},
     "output_type": "display_data"
    }
   ],
   "source": [
    "slope, intercept, r_value, p_value, std_err = stats.linregress(ted_df['inf_rating'],ted_df['views']/1000000)\n",
    "line = slope*ted_df['inf_rating']+intercept\n",
    "plt.plot(ted_df['inf_rating'],ted_df['views']/1000000,'o', ted_df['inf_rating'], line)\n",
    "plt.scatter(ted_df['inf_rating'], ted_df['views']/1000000)\n",
    "plt.ylabel('Number of Views (millions)')\n",
    "plt.xlabel('Informative Rating Count')\n",
    "plt.title('Number of Views Versus Informative Rating Count')"
   ]
  },
  {
   "cell_type": "code",
   "execution_count": 13,
   "metadata": {},
   "outputs": [
    {
     "data": {
      "text/plain": [
       "Text(0.5,1,'Number of Views Versus Fascinating Rating Count')"
      ]
     },
     "execution_count": 13,
     "metadata": {},
     "output_type": "execute_result"
    },
    {
     "data": {
      "image/png": "[encoded data removed]",
      "text/plain": [
       "<Figure size 432x288 with 1 Axes>"
      ]
     },
     "metadata": {},
     "output_type": "display_data"
    }
   ],
   "source": [
    "slope, intercept, r_value, p_value, std_err = stats.linregress(ted_df['fasc_rating'],ted_df['views']/1000000)\n",
    "line = slope*ted_df['fasc_rating']+intercept\n",
    "plt.plot(ted_df['fasc_rating'],ted_df['views']/1000000,'o', ted_df['fasc_rating'], line)\n",
    "plt.scatter(ted_df['fasc_rating'], ted_df['views']/1000000)\n",
    "plt.ylabel('Number of Views (millions)')\n",
    "plt.xlabel('Fascinating Rating Count')\n",
    "plt.title('Number of Views Versus Fascinating Rating Count')"
   ]
  },
  {
   "cell_type": "markdown",
   "metadata": {},
   "source": [
    "### It looks like there is a relationship for each rating buzzword!\n",
    "The data points and regression lines all indicate a positive relationship between our buzzwords and the number of views. It makes sense that the more people who describe a video as funny, the more views it will likely receive. Now that we have this information, let's train a model to predict view count based on buzzword totals!"
   ]
  },
  {
   "cell_type": "code",
   "execution_count": 52,
   "metadata": {},
   "outputs": [],
   "source": [
    "#Train a machine learning model to estimate the amount of views based on buzzword counts\n",
    "#split the data into train and test data\n",
    "train, test = train_test_split(ted_df, test_size=0.2)\n",
    "#create our model object\n",
    "clf = LinearRegression()\n",
    "#train the model on the training data and then make a prediction for the test data\n",
    "clf.fit(train[['insp_rating', 'fun_rating', 'inf_rating', 'fasc_rating']], train['views'])\n",
    "predicted = clf.predict(test[['insp_rating', 'fun_rating', 'inf_rating', 'fasc_rating']])"
   ]
  },
  {
   "cell_type": "code",
   "execution_count": 60,
   "metadata": {},
   "outputs": [
    {
     "data": {
      "text/plain": [
       "Text(0.5,1,'Predicted Number of Views Versus Total Rating Score')"
      ]
     },
     "execution_count": 60,
     "metadata": {},
     "output_type": "execute_result"
    },
    {
     "data": {
      "image/png": "[encoded data removed]",
      "text/plain": [
       "<Figure size 432x288 with 1 Axes>"
      ]
     },
     "metadata": {},
     "output_type": "display_data"
    }
   ],
   "source": [
    "#Plot the test data as a score along with the predicted values. Observe the linear relationship!\n",
    "plt.scatter(test['insp_rating']+test['fun_rating']+test['inf_rating']+test['fasc_rating'], predicted/1000000)\n",
    "plt.scatter(test['insp_rating']+test['fun_rating']+test['inf_rating']+test['fasc_rating'], test['views']/1000000)\n",
    "plt.ylabel('Number of Views (millions)')\n",
    "plt.xlabel('Total Rating Score')\n",
    "plt.title('Predicted Number of Views Versus Total Rating Score')"
   ]
  },
  {
   "cell_type": "markdown",
   "metadata": {},
   "source": [
    "The above output indicates that we have predicted the data in a similar pattern to the original test data! With the predictions mapped in blue, and the orignial data in orange, it is evident that out model can predict views moderately well from these buzzwords. One observation that jumps out is that our model is bad at mapping outliers, and preficts most of its points close to the imaginary line of best fit for the blue markings."
   ]
  },
  {
   "cell_type": "code",
   "execution_count": 61,
   "metadata": {},
   "outputs": [],
   "source": [
    "#Train a machine learning model to estimate the amount of comments based on buzzword counts\n",
    "clf2 = LinearRegression()\n",
    "clf2.fit(train[['insp_rating', 'fun_rating', 'inf_rating', 'fasc_rating']], train['comments'])\n",
    "predicted2 = clf2.predict(test[['insp_rating', 'fun_rating', 'inf_rating', 'fasc_rating']])"
   ]
  },
  {
   "cell_type": "code",
   "execution_count": 62,
   "metadata": {},
   "outputs": [
    {
     "data": {
      "text/plain": [
       "Text(0.5,1,'Predicted Number of Comments Versus Total Rating Score')"
      ]
     },
     "execution_count": 62,
     "metadata": {},
     "output_type": "execute_result"
    },
    {
     "data": {
      "image/png": "[encoded data removed]",
      "text/plain": [
       "<Figure size 432x288 with 1 Axes>"
      ]
     },
     "metadata": {},
     "output_type": "display_data"
    }
   ],
   "source": [
    "plt.scatter(test['insp_rating']+test['fun_rating']+test['inf_rating']+test['fasc_rating'], predicted2)\n",
    "plt.scatter(test['insp_rating']+test['fun_rating']+test['inf_rating']+test['fasc_rating'], test['comments'])\n",
    "plt.ylabel('Number of Comments')\n",
    "plt.xlabel('Total Rating Score')\n",
    "plt.title('Predicted Number of Comments Versus Total Rating Score')"
   ]
  },
  {
   "cell_type": "code",
   "execution_count": null,
   "metadata": {},
   "outputs": [],
   "source": []
  }
 ],
 "metadata": {
  "kernelspec": {
   "display_name": "Python 3",
   "language": "python",
   "name": "python3"
  },
  "language_info": {
   "codemirror_mode": {
    "name": "ipython",
    "version": 3
   },
   "file_extension": ".py",
   "mimetype": "text/x-python",
   "name": "python",
   "nbconvert_exporter": "python",
   "pygments_lexer": "ipython3",
   "version": "3.6.3"
  }
 },
 "nbformat": 4,
 "nbformat_minor": 2
}
