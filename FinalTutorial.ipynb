{
 "cells": [
  {
   "cell_type": "markdown",
   "metadata": {},
   "source": [
    "# Data Analysis Tutorial: A Beginners Guide \n",
    "\n",
    "#### Developed by Katherine Ciaravalli and Ethan Winters"
   ]
  },
  {
   "cell_type": "markdown",
   "metadata": {},
   "source": [
    "### Introduction\n",
    "\n",
    "   ##### For this tutorial we will take a look at how to perform Data Collection, Data Processing, Exploratory Data Analysis & Data Visualization, as well as Hypothesis Testing, and Machine Learning on data of your choosing. We have pulled some data about TedTalks beginning in 1972 all the way to 2017 to use as an example of one type of data you can learn from. "
   ]
  },
  {
   "cell_type": "markdown",
   "metadata": {},
   "source": [
    "### Getting Started\n",
    "\n",
    "#### Required Tools\n",
    "##### For this tutorial we used the following libraries to aid in our analysis. You can see below in the code how we have named them and their uses. \n",
    "\n",
    "1. pandas\n",
    "2. numpy\n",
    "3. matplotlib.pyplot\n",
    "4. yaml\n",
    "5. sklearn.linear_model\n",
    "6. sklearn.model_selection\n",
    "7. scipy\n",
    "\n",
    "Here is some further documentation on some libraries you may be more unfamiliar with:\n",
    "\n",
    "Yaml : https://yaml.org/spec/1.2/spec.html\n",
    "\n",
    "Scikit-Learn : https://scikitlearn.org/stable/supervised_learning.html#supervised-learning\n",
    "\n",
    "SciPy : https://docs.scipy.org/doc/scipy/reference/\n"
   ]
  },
  {
   "cell_type": "code",
   "execution_count": 2,
   "metadata": {},
   "outputs": [],
   "source": [
    "#Imports for entire project go up at the top \n",
    "\n",
    "import pandas as pd    #Used for formatting data and helpful analysis functions\n",
    "import numpy as np    #Additional helpful analysis functions\n",
    "import matplotlib.pyplot as plt    #Plotting functionality for visualization and analysis \n",
    "import yaml    #Needed for parsing ratings column in Step 2\n",
    "\n",
    "from sklearn.linear_model import LinearRegression    #Useful Machine Learning library\n",
    "from sklearn.model_selection import train_test_split    #To split data during Step 4 \n",
    "from scipy import stats    #Useful for plotting regression lines\n"
   ]
  },
  {
   "cell_type": "markdown",
   "metadata": {},
   "source": [
    "# Step 1: Data Collection\n",
    "### Dataset\n",
    "We used a TedTalk data set from kaggle.com, a popular data science resource for both beginners and experts. The data set is very extensive and provides both valuable and less relevant data for the purposes of our analysis. Essentially, the data set has metrics on every TedTalk including the date, amount of views per video, dictionaries for rated buzzwords, and other data that we will discuss more later on. <br><br>\n",
    "\n",
    "We obtained the data by downloading a CSV file and using the Pandas function for reading a comma separated value file (CSV). Pandas provides a tested and trusted function to do this, so we can avoid struggling to parse the data ourselves! (Tip: Always search helpful libraries for any functions that can save you time). The CSV file is in the same directory as this notebook, which is why the path we specifiy to read it in is just the file name itself. Be sure to include your data file with your anaylsis code for easy access. <br><br>\n",
    "\n",
    "### Related links\n",
    "If you are interested in searching Kaggle for some other fascinating data or want to learn more about CSV files click below:\n",
    "\n",
    "Kaggle data source - https://www.kaggle.com/rounakbanik/ted-talks <br>\n",
    "\n",
    "Reading in CSV files with Pandas- https://www.datacamp.com/community/tutorials/pandas-read-csv"
   ]
  },
  {
   "cell_type": "code",
   "execution_count": 3,
   "metadata": {},
   "outputs": [
    {
     "data": {
      "text/html": [
       "<div>\n",
       "<style scoped>\n",
       "    .dataframe tbody tr th:only-of-type {\n",
       "        vertical-align: middle;\n",
       "    }\n",
       "\n",
       "    .dataframe tbody tr th {\n",
       "        vertical-align: top;\n",
       "    }\n",
       "\n",
       "    .dataframe thead th {\n",
       "        text-align: right;\n",
       "    }\n",
       "</style>\n",
       "<table border=\"1\" class=\"dataframe\">\n",
       "  <thead>\n",
       "    <tr style=\"text-align: right;\">\n",
       "      <th></th>\n",
       "      <th>comments</th>\n",
       "      <th>description</th>\n",
       "      <th>duration</th>\n",
       "      <th>event</th>\n",
       "      <th>film_date</th>\n",
       "      <th>languages</th>\n",
       "      <th>main_speaker</th>\n",
       "      <th>name</th>\n",
       "      <th>num_speaker</th>\n",
       "      <th>published_date</th>\n",
       "      <th>ratings</th>\n",
       "      <th>related_talks</th>\n",
       "      <th>speaker_occupation</th>\n",
       "      <th>tags</th>\n",
       "      <th>title</th>\n",
       "      <th>url</th>\n",
       "      <th>views</th>\n",
       "    </tr>\n",
       "  </thead>\n",
       "  <tbody>\n",
       "    <tr>\n",
       "      <th>0</th>\n",
       "      <td>4553</td>\n",
       "      <td>Sir Ken Robinson makes an entertaining and pro...</td>\n",
       "      <td>1164</td>\n",
       "      <td>TED2006</td>\n",
       "      <td>1140825600</td>\n",
       "      <td>60</td>\n",
       "      <td>Ken Robinson</td>\n",
       "      <td>Ken Robinson: Do schools kill creativity?</td>\n",
       "      <td>1</td>\n",
       "      <td>1151367060</td>\n",
       "      <td>[{'id': 7, 'name': 'Funny', 'count': 19645}, {...</td>\n",
       "      <td>[{'id': 865, 'hero': 'https://pe.tedcdn.com/im...</td>\n",
       "      <td>Author/educator</td>\n",
       "      <td>['children', 'creativity', 'culture', 'dance',...</td>\n",
       "      <td>Do schools kill creativity?</td>\n",
       "      <td>https://www.ted.com/talks/ken_robinson_says_sc...</td>\n",
       "      <td>47227110</td>\n",
       "    </tr>\n",
       "    <tr>\n",
       "      <th>1</th>\n",
       "      <td>265</td>\n",
       "      <td>With the same humor and humanity he exuded in ...</td>\n",
       "      <td>977</td>\n",
       "      <td>TED2006</td>\n",
       "      <td>1140825600</td>\n",
       "      <td>43</td>\n",
       "      <td>Al Gore</td>\n",
       "      <td>Al Gore: Averting the climate crisis</td>\n",
       "      <td>1</td>\n",
       "      <td>1151367060</td>\n",
       "      <td>[{'id': 7, 'name': 'Funny', 'count': 544}, {'i...</td>\n",
       "      <td>[{'id': 243, 'hero': 'https://pe.tedcdn.com/im...</td>\n",
       "      <td>Climate advocate</td>\n",
       "      <td>['alternative energy', 'cars', 'climate change...</td>\n",
       "      <td>Averting the climate crisis</td>\n",
       "      <td>https://www.ted.com/talks/al_gore_on_averting_...</td>\n",
       "      <td>3200520</td>\n",
       "    </tr>\n",
       "    <tr>\n",
       "      <th>2</th>\n",
       "      <td>124</td>\n",
       "      <td>New York Times columnist David Pogue takes aim...</td>\n",
       "      <td>1286</td>\n",
       "      <td>TED2006</td>\n",
       "      <td>1140739200</td>\n",
       "      <td>26</td>\n",
       "      <td>David Pogue</td>\n",
       "      <td>David Pogue: Simplicity sells</td>\n",
       "      <td>1</td>\n",
       "      <td>1151367060</td>\n",
       "      <td>[{'id': 7, 'name': 'Funny', 'count': 964}, {'i...</td>\n",
       "      <td>[{'id': 1725, 'hero': 'https://pe.tedcdn.com/i...</td>\n",
       "      <td>Technology columnist</td>\n",
       "      <td>['computers', 'entertainment', 'interface desi...</td>\n",
       "      <td>Simplicity sells</td>\n",
       "      <td>https://www.ted.com/talks/david_pogue_says_sim...</td>\n",
       "      <td>1636292</td>\n",
       "    </tr>\n",
       "    <tr>\n",
       "      <th>3</th>\n",
       "      <td>200</td>\n",
       "      <td>In an emotionally charged talk, MacArthur-winn...</td>\n",
       "      <td>1116</td>\n",
       "      <td>TED2006</td>\n",
       "      <td>1140912000</td>\n",
       "      <td>35</td>\n",
       "      <td>Majora Carter</td>\n",
       "      <td>Majora Carter: Greening the ghetto</td>\n",
       "      <td>1</td>\n",
       "      <td>1151367060</td>\n",
       "      <td>[{'id': 3, 'name': 'Courageous', 'count': 760}...</td>\n",
       "      <td>[{'id': 1041, 'hero': 'https://pe.tedcdn.com/i...</td>\n",
       "      <td>Activist for environmental justice</td>\n",
       "      <td>['MacArthur grant', 'activism', 'business', 'c...</td>\n",
       "      <td>Greening the ghetto</td>\n",
       "      <td>https://www.ted.com/talks/majora_carter_s_tale...</td>\n",
       "      <td>1697550</td>\n",
       "    </tr>\n",
       "    <tr>\n",
       "      <th>4</th>\n",
       "      <td>593</td>\n",
       "      <td>You've never seen data presented like this. Wi...</td>\n",
       "      <td>1190</td>\n",
       "      <td>TED2006</td>\n",
       "      <td>1140566400</td>\n",
       "      <td>48</td>\n",
       "      <td>Hans Rosling</td>\n",
       "      <td>Hans Rosling: The best stats you've ever seen</td>\n",
       "      <td>1</td>\n",
       "      <td>1151440680</td>\n",
       "      <td>[{'id': 9, 'name': 'Ingenious', 'count': 3202}...</td>\n",
       "      <td>[{'id': 2056, 'hero': 'https://pe.tedcdn.com/i...</td>\n",
       "      <td>Global health expert; data visionary</td>\n",
       "      <td>['Africa', 'Asia', 'Google', 'demo', 'economic...</td>\n",
       "      <td>The best stats you've ever seen</td>\n",
       "      <td>https://www.ted.com/talks/hans_rosling_shows_t...</td>\n",
       "      <td>12005869</td>\n",
       "    </tr>\n",
       "  </tbody>\n",
       "</table>\n",
       "</div>"
      ],
      "text/plain": [
       "   comments                                        description  duration  \\\n",
       "0      4553  Sir Ken Robinson makes an entertaining and pro...      1164   \n",
       "1       265  With the same humor and humanity he exuded in ...       977   \n",
       "2       124  New York Times columnist David Pogue takes aim...      1286   \n",
       "3       200  In an emotionally charged talk, MacArthur-winn...      1116   \n",
       "4       593  You've never seen data presented like this. Wi...      1190   \n",
       "\n",
       "     event   film_date  languages   main_speaker  \\\n",
       "0  TED2006  1140825600         60   Ken Robinson   \n",
       "1  TED2006  1140825600         43        Al Gore   \n",
       "2  TED2006  1140739200         26    David Pogue   \n",
       "3  TED2006  1140912000         35  Majora Carter   \n",
       "4  TED2006  1140566400         48   Hans Rosling   \n",
       "\n",
       "                                            name  num_speaker  published_date  \\\n",
       "0      Ken Robinson: Do schools kill creativity?            1      1151367060   \n",
       "1           Al Gore: Averting the climate crisis            1      1151367060   \n",
       "2                  David Pogue: Simplicity sells            1      1151367060   \n",
       "3             Majora Carter: Greening the ghetto            1      1151367060   \n",
       "4  Hans Rosling: The best stats you've ever seen            1      1151440680   \n",
       "\n",
       "                                             ratings  \\\n",
       "0  [{'id': 7, 'name': 'Funny', 'count': 19645}, {...   \n",
       "1  [{'id': 7, 'name': 'Funny', 'count': 544}, {'i...   \n",
       "2  [{'id': 7, 'name': 'Funny', 'count': 964}, {'i...   \n",
       "3  [{'id': 3, 'name': 'Courageous', 'count': 760}...   \n",
       "4  [{'id': 9, 'name': 'Ingenious', 'count': 3202}...   \n",
       "\n",
       "                                       related_talks  \\\n",
       "0  [{'id': 865, 'hero': 'https://pe.tedcdn.com/im...   \n",
       "1  [{'id': 243, 'hero': 'https://pe.tedcdn.com/im...   \n",
       "2  [{'id': 1725, 'hero': 'https://pe.tedcdn.com/i...   \n",
       "3  [{'id': 1041, 'hero': 'https://pe.tedcdn.com/i...   \n",
       "4  [{'id': 2056, 'hero': 'https://pe.tedcdn.com/i...   \n",
       "\n",
       "                     speaker_occupation  \\\n",
       "0                       Author/educator   \n",
       "1                      Climate advocate   \n",
       "2                  Technology columnist   \n",
       "3    Activist for environmental justice   \n",
       "4  Global health expert; data visionary   \n",
       "\n",
       "                                                tags  \\\n",
       "0  ['children', 'creativity', 'culture', 'dance',...   \n",
       "1  ['alternative energy', 'cars', 'climate change...   \n",
       "2  ['computers', 'entertainment', 'interface desi...   \n",
       "3  ['MacArthur grant', 'activism', 'business', 'c...   \n",
       "4  ['Africa', 'Asia', 'Google', 'demo', 'economic...   \n",
       "\n",
       "                             title  \\\n",
       "0      Do schools kill creativity?   \n",
       "1      Averting the climate crisis   \n",
       "2                 Simplicity sells   \n",
       "3              Greening the ghetto   \n",
       "4  The best stats you've ever seen   \n",
       "\n",
       "                                                 url     views  \n",
       "0  https://www.ted.com/talks/ken_robinson_says_sc...  47227110  \n",
       "1  https://www.ted.com/talks/al_gore_on_averting_...   3200520  \n",
       "2  https://www.ted.com/talks/david_pogue_says_sim...   1636292  \n",
       "3  https://www.ted.com/talks/majora_carter_s_tale...   1697550  \n",
       "4  https://www.ted.com/talks/hans_rosling_shows_t...  12005869  "
      ]
     },
     "execution_count": 3,
     "metadata": {},
     "output_type": "execute_result"
    }
   ],
   "source": [
    "#Step 1: Data Collection\n",
    "\n",
    "#use pd.read_csv to read in the \"dirty\" data into a dataframe. We will clean this data in the next step.\n",
    "ted_df = pd.read_csv(\"ted_main.csv\")\n",
    "\n",
    "#display the head of the dataframe for easy viewing and a quick look at the first few rows of the un-clean data\n",
    "ted_df.head()"
   ]
  },
  {
   "cell_type": "markdown",
   "metadata": {},
   "source": [
    "# Step 2: Data Processing\n",
    "\n",
    "Data processing is a crucial step before digging into analysis. It is important to set yourself up with clean, easy to read, and consistent data. This might include improving column names, removing some unwanted data, or changing data types to ease in analysis later on. Sometimes this is referred to as tyding data or data wrangling. \n",
    "\n",
    "To read more on tidy data check out this blog post by Jean-Nicholas Hould, he discusses at length the importance of clean data and how to go about fixing some additional problems not included in this tutorial: \n",
    "http://www.jeannicholashould.com/tidy-data-in-python.html\n",
    "\n",
    "\n",
    "### Column Information \n",
    "The columns are as follow:\n",
    "- comments\n",
    "    - Number: total comments per video\n",
    "- description\n",
    "    - String: blurb on what the TedTalk will cover\n",
    "- duration\n",
    "    - Number: total time of TedTalk in Seconds\n",
    "- event\n",
    "    - String: TedTalk code for Year and location of event\n",
    "- film_date\n",
    "    - Unix Date: date when event was filmed\n",
    "- languages\n",
    "    - Number: total languages audio is available in\n",
    "- main_speaker\n",
    "    - String: Name of person who gave the talk\n",
    "- name\n",
    "    - String: main_speaker and title\n",
    "- num_speaker\n",
    "    - String: Amount of main_speakers that gave the talk\n",
    "- published_date\n",
    "    - Unix Date: Date when video was released online\n",
    "- ratings\n",
    "    - String: count of ratings per word on each talk \n",
    "- related_talks\n",
    "    - String: links to other talks similar to current talk\n",
    "- speaker_occupation\n",
    "    - String: job title of main_speaker\n",
    "- tags\n",
    "    - String: list of words describing talk topic\n",
    "- title\n",
    "    - String: title of talk\n",
    "- url\n",
    "    - String: link to website containing talk video and transcript\n",
    "- views\n",
    "    - Number: total view count for talk\n",
    "\n",
    "\n",
    "It is clear some of this descritive data will be less helpful when performing analysis so we will want to remove that from the set. Sometimes descriptive data can be converted into a unique number and can be great to make predictions with. For example the 'tags' column would be interesting to transpose into numbers and include in analysis. We have chosen not to include that in this tutorial but further information on descriptive statistics can be found here:\n",
    "https://www.researchconnections.org/childcare/datamethods/descriptivestats.jsp\n",
    "\n",
    "The code below demonstrates how to remove unwanted columns from our pandas dataframe. We have also used the function 'Pandas.to_datetime()' to convert the film_date and published_date from Unix-Date to a more readable format, yyyy-mm-dd. We can see when we display the head our condensed dataframe with the columns we will continue to work with."
   ]
  },
  {
   "cell_type": "code",
   "execution_count": 4,
   "metadata": {},
   "outputs": [
    {
     "data": {
      "text/html": [
       "<div>\n",
       "<style scoped>\n",
       "    .dataframe tbody tr th:only-of-type {\n",
       "        vertical-align: middle;\n",
       "    }\n",
       "\n",
       "    .dataframe tbody tr th {\n",
       "        vertical-align: top;\n",
       "    }\n",
       "\n",
       "    .dataframe thead th {\n",
       "        text-align: right;\n",
       "    }\n",
       "</style>\n",
       "<table border=\"1\" class=\"dataframe\">\n",
       "  <thead>\n",
       "    <tr style=\"text-align: right;\">\n",
       "      <th></th>\n",
       "      <th>comments</th>\n",
       "      <th>duration</th>\n",
       "      <th>film_date</th>\n",
       "      <th>languages</th>\n",
       "      <th>published_date</th>\n",
       "      <th>ratings</th>\n",
       "      <th>title</th>\n",
       "      <th>views</th>\n",
       "    </tr>\n",
       "  </thead>\n",
       "  <tbody>\n",
       "    <tr>\n",
       "      <th>0</th>\n",
       "      <td>4553</td>\n",
       "      <td>1164</td>\n",
       "      <td>2006-02-25</td>\n",
       "      <td>60</td>\n",
       "      <td>2006-06-27 00:11:00</td>\n",
       "      <td>[{'id': 7, 'name': 'Funny', 'count': 19645}, {...</td>\n",
       "      <td>Do schools kill creativity?</td>\n",
       "      <td>47227110</td>\n",
       "    </tr>\n",
       "    <tr>\n",
       "      <th>1</th>\n",
       "      <td>265</td>\n",
       "      <td>977</td>\n",
       "      <td>2006-02-25</td>\n",
       "      <td>43</td>\n",
       "      <td>2006-06-27 00:11:00</td>\n",
       "      <td>[{'id': 7, 'name': 'Funny', 'count': 544}, {'i...</td>\n",
       "      <td>Averting the climate crisis</td>\n",
       "      <td>3200520</td>\n",
       "    </tr>\n",
       "    <tr>\n",
       "      <th>2</th>\n",
       "      <td>124</td>\n",
       "      <td>1286</td>\n",
       "      <td>2006-02-24</td>\n",
       "      <td>26</td>\n",
       "      <td>2006-06-27 00:11:00</td>\n",
       "      <td>[{'id': 7, 'name': 'Funny', 'count': 964}, {'i...</td>\n",
       "      <td>Simplicity sells</td>\n",
       "      <td>1636292</td>\n",
       "    </tr>\n",
       "    <tr>\n",
       "      <th>3</th>\n",
       "      <td>200</td>\n",
       "      <td>1116</td>\n",
       "      <td>2006-02-26</td>\n",
       "      <td>35</td>\n",
       "      <td>2006-06-27 00:11:00</td>\n",
       "      <td>[{'id': 3, 'name': 'Courageous', 'count': 760}...</td>\n",
       "      <td>Greening the ghetto</td>\n",
       "      <td>1697550</td>\n",
       "    </tr>\n",
       "    <tr>\n",
       "      <th>4</th>\n",
       "      <td>593</td>\n",
       "      <td>1190</td>\n",
       "      <td>2006-02-22</td>\n",
       "      <td>48</td>\n",
       "      <td>2006-06-27 20:38:00</td>\n",
       "      <td>[{'id': 9, 'name': 'Ingenious', 'count': 3202}...</td>\n",
       "      <td>The best stats you've ever seen</td>\n",
       "      <td>12005869</td>\n",
       "    </tr>\n",
       "  </tbody>\n",
       "</table>\n",
       "</div>"
      ],
      "text/plain": [
       "   comments  duration  film_date  languages      published_date  \\\n",
       "0      4553      1164 2006-02-25         60 2006-06-27 00:11:00   \n",
       "1       265       977 2006-02-25         43 2006-06-27 00:11:00   \n",
       "2       124      1286 2006-02-24         26 2006-06-27 00:11:00   \n",
       "3       200      1116 2006-02-26         35 2006-06-27 00:11:00   \n",
       "4       593      1190 2006-02-22         48 2006-06-27 20:38:00   \n",
       "\n",
       "                                             ratings  \\\n",
       "0  [{'id': 7, 'name': 'Funny', 'count': 19645}, {...   \n",
       "1  [{'id': 7, 'name': 'Funny', 'count': 544}, {'i...   \n",
       "2  [{'id': 7, 'name': 'Funny', 'count': 964}, {'i...   \n",
       "3  [{'id': 3, 'name': 'Courageous', 'count': 760}...   \n",
       "4  [{'id': 9, 'name': 'Ingenious', 'count': 3202}...   \n",
       "\n",
       "                             title     views  \n",
       "0      Do schools kill creativity?  47227110  \n",
       "1      Averting the climate crisis   3200520  \n",
       "2                 Simplicity sells   1636292  \n",
       "3              Greening the ghetto   1697550  \n",
       "4  The best stats you've ever seen  12005869  "
      ]
     },
     "execution_count": 4,
     "metadata": {},
     "output_type": "execute_result"
    }
   ],
   "source": [
    "#Step 2: Data Processing\n",
    "\n",
    "#in this step we will clean the data so that it can be used more efficiently in later on steps\n",
    "\n",
    "#drop description\n",
    "ted_df = ted_df.drop(['description'], axis=1)\n",
    "#drop event\n",
    "ted_df = ted_df.drop(['event'], axis=1)\n",
    "\n",
    "#change film_date from unix time to yyyy-mm-dd\n",
    "ted_df['film_date'] = pd.to_datetime(ted_df['film_date'],unit='s')\n",
    "\n",
    "#drop main_speaker\n",
    "ted_df = ted_df.drop(['main_speaker'], axis=1)\n",
    "#drop num_speaker\n",
    "ted_df = ted_df.drop(['num_speaker'], axis=1)\n",
    "#drop name\n",
    "ted_df = ted_df.drop(['name'], axis=1)\n",
    "\n",
    "#change published_date from unix time to yyyy-mm-dd\n",
    "ted_df['published_date'] = pd.to_datetime(ted_df['published_date'],unit='s')\n",
    "\n",
    "#drop related_talks\n",
    "ted_df = ted_df.drop(['related_talks'], axis=1)\n",
    "#drop speaker_occupation\n",
    "ted_df = ted_df.drop(['speaker_occupation'], axis=1)\n",
    "#drop tags\n",
    "ted_df = ted_df.drop(['tags'], axis=1)\n",
    "#drop url\n",
    "ted_df = ted_df.drop(['url'], axis=1)\n",
    "\n",
    "#Display head to see mostly cleaned data\n",
    "ted_df.head()  "
   ]
  },
  {
   "cell_type": "markdown",
   "metadata": {},
   "source": [
    "### Specialized Cleaning\n",
    "\n",
    "We want to use the data that is inside the 'ratings' column however it isn't in a very functional format. When we initially viewed it in the starting dataset it appeared to be a dictionary object with an 'id' identifer number, 'name' for word that was described and 'count' that showed the amount of votes per word. Once we attempted to translate the data into new columns, the 'ratings' column was not a dictionary value but a string, so we needed to hande this. \n",
    "\n",
    "Below is the code to properly convert a string in the format {'key':value, ... 'key':value} into a proper dictionary object. We did this with the help of yaml, which was imported above, yaml has an easy function yaml.load() which does the dirty work for us. We then needed to extract the ratings for each word so we can store them in new columns. There were over 20 words that people could rate on in this data, we chose only four: Inspiring, Funny, Informative, and Fascinating. Feel free to extract counts for other words and see how they compare! Our new function, 'split_rating' acheives all of this and returns an array with each corresponding count for \\[inspiring, funny, informative, fascinating\\]. Lastly, we loaded in those values row by row and inserted them into our four new columns, 'insp_rating', 'fun_rating', 'inf_rating', and 'fasc_rating'.\n",
    "\n",
    "We dropped the old ratings column as we no longer need it and displayed the head of the data to make sure we acheived the last bit of our tidying. \n"
   ]
  },
  {
   "cell_type": "code",
   "execution_count": 5,
   "metadata": {},
   "outputs": [
    {
     "name": "stderr",
     "output_type": "stream",
     "text": [
      "/opt/conda/lib/python3.6/site-packages/ipykernel_launcher.py:23: FutureWarning: set_value is deprecated and will be removed in a future release. Please use .at[] or .iat[] accessors instead\n",
      "/opt/conda/lib/python3.6/site-packages/ipykernel_launcher.py:24: FutureWarning: set_value is deprecated and will be removed in a future release. Please use .at[] or .iat[] accessors instead\n",
      "/opt/conda/lib/python3.6/site-packages/ipykernel_launcher.py:25: FutureWarning: set_value is deprecated and will be removed in a future release. Please use .at[] or .iat[] accessors instead\n",
      "/opt/conda/lib/python3.6/site-packages/ipykernel_launcher.py:26: FutureWarning: set_value is deprecated and will be removed in a future release. Please use .at[] or .iat[] accessors instead\n"
     ]
    },
    {
     "data": {
      "text/html": [
       "<div>\n",
       "<style scoped>\n",
       "    .dataframe tbody tr th:only-of-type {\n",
       "        vertical-align: middle;\n",
       "    }\n",
       "\n",
       "    .dataframe tbody tr th {\n",
       "        vertical-align: top;\n",
       "    }\n",
       "\n",
       "    .dataframe thead th {\n",
       "        text-align: right;\n",
       "    }\n",
       "</style>\n",
       "<table border=\"1\" class=\"dataframe\">\n",
       "  <thead>\n",
       "    <tr style=\"text-align: right;\">\n",
       "      <th></th>\n",
       "      <th>comments</th>\n",
       "      <th>duration</th>\n",
       "      <th>film_date</th>\n",
       "      <th>languages</th>\n",
       "      <th>published_date</th>\n",
       "      <th>title</th>\n",
       "      <th>views</th>\n",
       "      <th>insp_rating</th>\n",
       "      <th>fun_rating</th>\n",
       "      <th>inf_rating</th>\n",
       "      <th>fasc_rating</th>\n",
       "    </tr>\n",
       "  </thead>\n",
       "  <tbody>\n",
       "    <tr>\n",
       "      <th>0</th>\n",
       "      <td>4553</td>\n",
       "      <td>1164</td>\n",
       "      <td>2006-02-25</td>\n",
       "      <td>60</td>\n",
       "      <td>2006-06-27 00:11:00</td>\n",
       "      <td>Do schools kill creativity?</td>\n",
       "      <td>47227110</td>\n",
       "      <td>24924.0</td>\n",
       "      <td>19645.0</td>\n",
       "      <td>7346.0</td>\n",
       "      <td>10581.0</td>\n",
       "    </tr>\n",
       "    <tr>\n",
       "      <th>1</th>\n",
       "      <td>265</td>\n",
       "      <td>977</td>\n",
       "      <td>2006-02-25</td>\n",
       "      <td>43</td>\n",
       "      <td>2006-06-27 00:11:00</td>\n",
       "      <td>Averting the climate crisis</td>\n",
       "      <td>3200520</td>\n",
       "      <td>413.0</td>\n",
       "      <td>544.0</td>\n",
       "      <td>443.0</td>\n",
       "      <td>132.0</td>\n",
       "    </tr>\n",
       "    <tr>\n",
       "      <th>2</th>\n",
       "      <td>124</td>\n",
       "      <td>1286</td>\n",
       "      <td>2006-02-24</td>\n",
       "      <td>26</td>\n",
       "      <td>2006-06-27 00:11:00</td>\n",
       "      <td>Simplicity sells</td>\n",
       "      <td>1636292</td>\n",
       "      <td>230.0</td>\n",
       "      <td>964.0</td>\n",
       "      <td>395.0</td>\n",
       "      <td>166.0</td>\n",
       "    </tr>\n",
       "    <tr>\n",
       "      <th>3</th>\n",
       "      <td>200</td>\n",
       "      <td>1116</td>\n",
       "      <td>2006-02-26</td>\n",
       "      <td>35</td>\n",
       "      <td>2006-06-27 00:11:00</td>\n",
       "      <td>Greening the ghetto</td>\n",
       "      <td>1697550</td>\n",
       "      <td>1070.0</td>\n",
       "      <td>59.0</td>\n",
       "      <td>380.0</td>\n",
       "      <td>132.0</td>\n",
       "    </tr>\n",
       "    <tr>\n",
       "      <th>4</th>\n",
       "      <td>593</td>\n",
       "      <td>1190</td>\n",
       "      <td>2006-02-22</td>\n",
       "      <td>48</td>\n",
       "      <td>2006-06-27 20:38:00</td>\n",
       "      <td>The best stats you've ever seen</td>\n",
       "      <td>12005869</td>\n",
       "      <td>2893.0</td>\n",
       "      <td>1390.0</td>\n",
       "      <td>5433.0</td>\n",
       "      <td>4606.0</td>\n",
       "    </tr>\n",
       "  </tbody>\n",
       "</table>\n",
       "</div>"
      ],
      "text/plain": [
       "   comments  duration  film_date  languages      published_date  \\\n",
       "0      4553      1164 2006-02-25         60 2006-06-27 00:11:00   \n",
       "1       265       977 2006-02-25         43 2006-06-27 00:11:00   \n",
       "2       124      1286 2006-02-24         26 2006-06-27 00:11:00   \n",
       "3       200      1116 2006-02-26         35 2006-06-27 00:11:00   \n",
       "4       593      1190 2006-02-22         48 2006-06-27 20:38:00   \n",
       "\n",
       "                             title     views  insp_rating  fun_rating  \\\n",
       "0      Do schools kill creativity?  47227110      24924.0     19645.0   \n",
       "1      Averting the climate crisis   3200520        413.0       544.0   \n",
       "2                 Simplicity sells   1636292        230.0       964.0   \n",
       "3              Greening the ghetto   1697550       1070.0        59.0   \n",
       "4  The best stats you've ever seen  12005869       2893.0      1390.0   \n",
       "\n",
       "   inf_rating  fasc_rating  \n",
       "0      7346.0      10581.0  \n",
       "1       443.0        132.0  \n",
       "2       395.0        166.0  \n",
       "3       380.0        132.0  \n",
       "4      5433.0       4606.0  "
      ]
     },
     "execution_count": 5,
     "metadata": {},
     "output_type": "execute_result"
    }
   ],
   "source": [
    "#we will write a function to split the ratings column into their own columns to be used later called split_ratings\n",
    "\n",
    "def split_ratings(row):    #feed in a row of the dataframe\n",
    "    r = row['ratings']\n",
    "    values = yaml.load(r)    #transform the string dictionary representation to an actual dictionary\n",
    "    insp_count = 0    #initialize counts for words that we decided to track\n",
    "    fun_count = 0\n",
    "    inf_count = 0\n",
    "    fasc_count = 0\n",
    "    for word_rating in values:    #loop through dictionary and pick out values of words we care about\n",
    "        if word_rating['id'] == 10:    #inspiring\n",
    "            insp_count = word_rating['count']\n",
    "        if word_rating['id'] == 7:    #funny\n",
    "            fun_count = word_rating['count']\n",
    "        if word_rating['id'] == 8:    #informative\n",
    "            inf_count = word_rating['count']\n",
    "        if word_rating['id'] == 22:    #fascinating\n",
    "            fasc_count = word_rating['count']\n",
    "    return [insp_count, fun_count, inf_count, fasc_count]    #return a list of values to apply to dataframe\n",
    "\n",
    "for index, row in ted_df.iterrows():\n",
    "    values = split_ratings(row)    #call above function on row, store the list of 4 values in \"values\" variable\n",
    "    ted_df.set_value(index,'insp_rating',values[0])    #set new dataframe column values accordingly for counts of words\n",
    "    ted_df.set_value(index,'fun_rating',values[1])\n",
    "    ted_df.set_value(index,'inf_rating',values[2])\n",
    "    ted_df.set_value(index,'fasc_rating',values[3])\n",
    "\n",
    "#drop ratings, since we made new columns with the data we want\n",
    "ted_df = ted_df.drop(['ratings'], axis=1)\n",
    "#show head\n",
    "ted_df.head()"
   ]
  },
  {
   "cell_type": "code",
   "execution_count": null,
   "metadata": {},
   "outputs": [],
   "source": []
  },
  {
   "cell_type": "markdown",
   "metadata": {},
   "source": [
    "# Step 3: Exploratory Data Analysis & Data Visualization\n",
    "\n",
    "A very exciting part of data science is being able to translate large datasets like the one we have been working with and make it readable to people outside the field. This is best achived by generating visualizations that are clean, beautiful and easily understandable by anyone looking to grasp the information. During Exploratory Data Analysis (EDA), you have already received the data, cleaned it, sorted it, and now its time to create other features you wish that take your data to the next level. From here we can begin to see the relationship between certain variables, the correlation (if any) between features, and continue to generate more visualization in order to better display the data at hand. This all needs to happen before you create prediction models in the Machine Learning portion of this tutorial.\n",
    "\n",
    "A great post on \"Towards Data Science\" found here,\n",
    "\n",
    "https://towardsdatascience.com/visualizing-your-exploratory-data-analysis-d2d6c2e3b30e\n",
    "\n",
    "gives a great desription and definition of EDA.\n",
    "\n",
    "________\n",
    "\n",
    "EDA is an approach to data analysis that uses a variety of techniques, largely visual, to: Maximize insight, reveal underlying structure, check for outliers, test assumptions, and determine optimal factors. It is an approach to analysis of your data that delays the usual assumptions of what kind of model should be used and instead allows the data to speak for itself.\n",
    "\n",
    "________\n"
   ]
  },
  {
   "cell_type": "markdown",
   "metadata": {},
   "source": [
    "### Beginning to code visualizations:\n",
    "\n",
    "We will now begin the preliminary stage of our data analysis. It is vital to familiarize yourself with the basics before digging into more extensive assessments. We first want to grab some quick facts about our data so we pulled some totals and averages to get a gauge on what to expect as we continue working with this information. \n"
   ]
  },
  {
   "cell_type": "code",
   "execution_count": 6,
   "metadata": {},
   "outputs": [
    {
     "name": "stdout",
     "output_type": "stream",
     "text": [
      "Total Data Points: \n",
      "2550\n",
      "Average duration of TedTalk (seconds): \n",
      "826.510196078\n",
      "Standard Deviation for Duration (seconds): \n",
      "374.009138019\n",
      "Average of amount of comments: \n",
      "191.562352941\n"
     ]
    }
   ],
   "source": [
    "#Step 3: Exploratory Data Analysis & Data Visualization\n",
    "#lets take a look at some data points first, and get more familiar with our data\n",
    "\n",
    "#how many data points (rows) do we have?\n",
    "print(\"Total Data Points: \")\n",
    "print (len(ted_df))\n",
    "\n",
    "#what is the average duration of a ted talk (in seconds)?\n",
    "print(\"Average duration of TedTalk (seconds): \")\n",
    "print (ted_df['duration'].mean())\n",
    "\n",
    "#what is the standard deviation for duration of a ted talk (in seconds)?\n",
    "print(\"Standard Deviation for Duration (seconds): \")\n",
    "print (ted_df['duration'].std())\n",
    "\n",
    "#what is the average amount of comments on a ted talk?\n",
    "print(\"Average of amount of comments: \")\n",
    "print (ted_df['comments'].mean())"
   ]
  },
  {
   "cell_type": "markdown",
   "metadata": {},
   "source": [
    "### Plotting a Bar Chart\n",
    "\n",
    "This is where our library \"matplotlib.pyplot as plt\" comes in handy and allows simple one liners to create beautiful graphs as well as functions to support further adjustments and modifications.\n",
    "\n",
    "#### TedTalks per Month\n",
    "\n",
    "We wanted to determine what month TedTalks happpen during the most. To do this we need to plot a histogram with count of each TedTalk and group them by the month they were filmed. The 'groupby' function can help up do this (as shown below) and it is easy to grab just the month with 'Date.dt.month' since we spent that time converting the date earlier in Step 2. We establish we want out plot to be a bar graph and from here you could display your final product. \n",
    "\n",
    "To label your graph with nicer/professional titles, just use the .xlabel, .ylabel, and .title functions shows below. This adds clarity in what the graph is displaying and will be useful when showing off your visualization to others.\n",
    "\n",
    "To gain more insight on bar charts and how else they can be displayed, check out this demo:\n",
    "\n",
    "https://matplotlib.org/gallery/statistics/barchart_demo.html\n",
    "\n"
   ]
  },
  {
   "cell_type": "code",
   "execution_count": 7,
   "metadata": {},
   "outputs": [
    {
     "data": {
      "text/plain": [
       "Text(0.5,1,'Number of Ted Talks Produced Per Month Overall')"
      ]
     },
     "execution_count": 7,
     "metadata": {},
     "output_type": "execute_result"
    },
    {
     "data": {
      "image/png": "[encoded data removed]",
      "text/plain": [
       "<Figure size 432x288 with 1 Axes>"
      ]
     },
     "metadata": {},
     "output_type": "display_data"
    }
   ],
   "source": [
    "#we will plot a bar graph for the number ted talks done for each month over all ted talks\n",
    "\n",
    "#we use a groupby function to group the dataframe by month on film date\n",
    "ted_df.groupby(ted_df[\"film_date\"].dt.month)['film_date'].count().plot(kind=\"bar\")\n",
    "\n",
    "#Edit labels \n",
    "plt.ylabel('Number of Ted Talks Produced')\n",
    "plt.xlabel('Month')\n",
    "plt.title('Number of Ted Talks Produced Per Month Overall')"
   ]
  },
  {
   "cell_type": "markdown",
   "metadata": {},
   "source": [
    "#### TedTalks per Year\n",
    "\n",
    "Similiary, if you wanted to view how many TedTalks were given per year, you would approach to data in the same fashion. This time, grouping by 'dt.year' instead of month and labeling your axes accordingly. "
   ]
  },
  {
   "cell_type": "code",
   "execution_count": 8,
   "metadata": {},
   "outputs": [
    {
     "data": {
      "text/plain": [
       "Text(0.5,1,'Number of Ted Talks Produced Per Year Overall')"
      ]
     },
     "execution_count": 8,
     "metadata": {},
     "output_type": "execute_result"
    },
    {
     "data": {
      "image/png": "[encoded data removed]",
      "text/plain": [
       "<Figure size 432x288 with 1 Axes>"
      ]
     },
     "metadata": {},
     "output_type": "display_data"
    }
   ],
   "source": [
    "\n",
    "#now we will plot a bar graph for the number ted talks done for each year over all ted talks\n",
    "\n",
    "#we use a groupby function to group the dataframe by year on film date\n",
    "ted_df.groupby(ted_df[\"film_date\"].dt.year)['film_date'].count().plot(kind=\"bar\")\n",
    "\n",
    "#Edit labels \n",
    "plt.ylabel('Number of Ted Talks Produced')\n",
    "plt.xlabel('Year')\n",
    "plt.title('Number of Ted Talks Produced Per Year Overall')"
   ]
  },
  {
   "cell_type": "markdown",
   "metadata": {},
   "source": [
    "#### Comments versus Views  Pie Chart\n",
    "\n",
    "This is just another example of the type of graph you can build using matplotlib."
   ]
  },
  {
   "cell_type": "code",
   "execution_count": 9,
   "metadata": {},
   "outputs": [
    {
     "data": {
      "text/plain": [
       "Text(0.5,1,'Number of Comments Each Year on Ted Videos')"
      ]
     },
     "execution_count": 9,
     "metadata": {},
     "output_type": "execute_result"
    },
    {
     "data": {
      "image/png": "[encoded data removed]",
      "text/plain": [
       "<Figure size 432x288 with 1 Axes>"
      ]
     },
     "metadata": {},
     "output_type": "display_data"
    }
   ],
   "source": [
    "#lets take a look at the amount of comments over the years\n",
    "ted_df.groupby(ted_df[\"film_date\"].dt.year)['comments'].sum().plot(kind=\"pie\")\n",
    "plt.ylabel('Number of Comments')\n",
    "plt.xlabel('Year')\n",
    "plt.title('Number of Comments Each Year on Ted Videos')"
   ]
  },
  {
   "cell_type": "markdown",
   "metadata": {},
   "source": [
    "### Plotting a Scatter Plot\n",
    "\n",
    "Next, we wanted to see a relationships between how many langues a TedTalk was offered in and how many views it received. For this, we need are going to plot a scatter plot with the available number of languages and views. \n",
    "\n",
    "#### Languages versus Views\n",
    "The 'views' category has very large numbers that appear on the graph in an ugly way. To avoid unattractive labels, we have scaled down the amount of views by 1,000,000 and labeled the axis  with '(millions)' appropriately. For this graph we do not need to groupby any specific category since each data point in the dataframe will be plotted. \n",
    "\n",
    "Charts and graphs are an incredible vital part of Business and the future. It can be a useful tool in aiding marketing teams and making strategic decisions. The link below and a video that goes indepth on how graphs and charts play a role in real world applications.\n",
    "\n",
    "<p><a href=\"https://study.com/academy/lesson/graphs-charts-in-business-importance-use-examples.html?wvideo=r4jeoaeedz\"><img src=\"/cimages/videopreview/videopreview-full/ht6g9vn7xd.jpg\" width=\"400\" height=\"225\" style=\"width: 400px; height: 225px;\"></a></p><p><a href=\"https://study.com/academy/lesson/graphs-charts-in-business-importance-use-examples.html?wvideo=r4jeoaeedz\">Graphs &amp; Charts in Business: Importance, Use &amp; Examples - Video &amp; Lesson Transcript | Study.com</a></p>"
   ]
  },
  {
   "cell_type": "code",
   "execution_count": 10,
   "metadata": {},
   "outputs": [
    {
     "data": {
      "text/plain": [
       "Text(0.5,1,'Number of Views Versus Languages Available')"
      ]
     },
     "execution_count": 10,
     "metadata": {},
     "output_type": "execute_result"
    },
    {
     "data": {
      "image/png": "[encoded data removed]",
      "text/plain": [
       "<Figure size 432x288 with 1 Axes>"
      ]
     },
     "metadata": {},
     "output_type": "display_data"
    }
   ],
   "source": [
    "#now we will plot the amount of languages the talk is available in vs the amount of total views\n",
    "plt.scatter(ted_df['languages'], ted_df['views']/1000000)\n",
    "\n",
    "# labeling\n",
    "plt.ylabel('Number of Views (millions)')\n",
    "plt.xlabel('Number of Languages Available')\n",
    "plt.title('Number of Views Versus Languages Available')"
   ]
  },
  {
   "cell_type": "markdown",
   "metadata": {},
   "source": [
    "# Step 4: Analysis, Hypothesis Tests, and Machine Learning\n",
    "\n",
    "### Models Trained\n",
    "In this section, we will train two models. One model will be used to predict views based on rating buzzword counts, and the other will be used to predict the number of comments on the ted talk.\n",
    "\n",
    "### Training Algorithms\n",
    "We will use linear regression models for all of our models. This is because we are not trying to classify data into sets, but instead predict the actual value of a particular variable.\n",
    "\n",
    "### Related Links\n",
    "A great overview of linear regression: https://towardsdatascience.com/linear-regression-detailed-view-ea73175f6e86 <br>\n"
   ]
  },
  {
   "cell_type": "code",
   "execution_count": 11,
   "metadata": {
    "scrolled": true
   },
   "outputs": [],
   "source": [
    "#Step 4: Analysis, Hypothesis Testing, and Machine Learning \n",
    "#we want to be able to predict the amount of views/comments that a ted talk will have based on the rating counts of the buzzwords\n",
    "#that we selected (inspiring, funny, informative, fascinating)"
   ]
  },
  {
   "cell_type": "markdown",
   "metadata": {},
   "source": [
    "### Before we get into the hard stuff\n",
    "Let's make sure that we have an evident correlation between our ratings and views/comments. To do this we can plot the data along with a line that we generate using a linear regression module from the `stats` library. We are looking for data points that generally move in the same direction, and have few outliers."
   ]
  },
  {
   "cell_type": "code",
   "execution_count": 12,
   "metadata": {},
   "outputs": [
    {
     "data": {
      "text/plain": [
       "Text(0.5,1,'Number of Views Versus Inspiration Rating Count')"
      ]
     },
     "execution_count": 12,
     "metadata": {},
     "output_type": "execute_result"
    },
    {
     "data": {
      "image/png": "[encoded data removed]",
      "text/plain": [
       "<Figure size 432x288 with 1 Axes>"
      ]
     },
     "metadata": {},
     "output_type": "display_data"
    }
   ],
   "source": [
    "#Now, lets look at the simple relationships between the buzzwords we selected and views, which we will examine further\n",
    "#in the machine learning portion\n",
    "#calculate the slope and intercept of the regression line using the stats library\n",
    "#divide views by 1000000 to make the data easier to read\n",
    "slope, intercept, r_value, p_value, std_err = stats.linregress(ted_df['insp_rating'],ted_df['views']/1000000)\n",
    "#make a line in the form of y=mx+b\n",
    "line = slope*ted_df['insp_rating']+intercept\n",
    "#plot the line\n",
    "plt.plot(ted_df['insp_rating'],ted_df['views']/1000000,'o', ted_df['insp_rating'], line)\n",
    "#plot the relationship\n",
    "plt.scatter(ted_df['insp_rating'], ted_df['views']/1000000)\n",
    "plt.ylabel('Number of Views (millions)')\n",
    "plt.xlabel('Inspiration Rating Count')\n",
    "plt.title('Number of Views Versus Inspiration Rating Count')"
   ]
  },
  {
   "cell_type": "code",
   "execution_count": 13,
   "metadata": {},
   "outputs": [
    {
     "data": {
      "text/plain": [
       "Text(0.5,1,'Number of Views Versus Funny Rating Count')"
      ]
     },
     "execution_count": 13,
     "metadata": {},
     "output_type": "execute_result"
    },
    {
     "data": {
      "image/png": "[encoded data removed]",
      "text/plain": [
       "<Figure size 432x288 with 1 Axes>"
      ]
     },
     "metadata": {},
     "output_type": "display_data"
    }
   ],
   "source": [
    "slope, intercept, r_value, p_value, std_err = stats.linregress(ted_df['fun_rating'],ted_df['views']/1000000)\n",
    "line = slope*ted_df['fun_rating']+intercept\n",
    "plt.plot(ted_df['fun_rating'],ted_df['views']/1000000,'o', ted_df['fun_rating'], line)\n",
    "plt.scatter(ted_df['fun_rating'], ted_df['views']/1000000)\n",
    "plt.ylabel('Number of Views (millions)')\n",
    "plt.xlabel('Funny Rating Count')\n",
    "plt.title('Number of Views Versus Funny Rating Count')"
   ]
  },
  {
   "cell_type": "code",
   "execution_count": 14,
   "metadata": {},
   "outputs": [
    {
     "data": {
      "text/plain": [
       "Text(0.5,1,'Number of Views Versus Informative Rating Count')"
      ]
     },
     "execution_count": 14,
     "metadata": {},
     "output_type": "execute_result"
    },
    {
     "data": {
      "image/png": "[encoded data removed]",
      "text/plain": [
       "<Figure size 432x288 with 1 Axes>"
      ]
     },
     "metadata": {},
     "output_type": "display_data"
    }
   ],
   "source": [
    "slope, intercept, r_value, p_value, std_err = stats.linregress(ted_df['inf_rating'],ted_df['views']/1000000)\n",
    "line = slope*ted_df['inf_rating']+intercept\n",
    "plt.plot(ted_df['inf_rating'],ted_df['views']/1000000,'o', ted_df['inf_rating'], line)\n",
    "plt.scatter(ted_df['inf_rating'], ted_df['views']/1000000)\n",
    "plt.ylabel('Number of Views (millions)')\n",
    "plt.xlabel('Informative Rating Count')\n",
    "plt.title('Number of Views Versus Informative Rating Count')"
   ]
  },
  {
   "cell_type": "code",
   "execution_count": 15,
   "metadata": {},
   "outputs": [
    {
     "data": {
      "text/plain": [
       "Text(0.5,1,'Number of Views Versus Fascinating Rating Count')"
      ]
     },
     "execution_count": 15,
     "metadata": {},
     "output_type": "execute_result"
    },
    {
     "data": {
      "image/png": "[encoded data removed]",
      "text/plain": [
       "<Figure size 432x288 with 1 Axes>"
      ]
     },
     "metadata": {},
     "output_type": "display_data"
    }
   ],
   "source": [
    "slope, intercept, r_value, p_value, std_err = stats.linregress(ted_df['fasc_rating'],ted_df['views']/1000000)\n",
    "line = slope*ted_df['fasc_rating']+intercept\n",
    "plt.plot(ted_df['fasc_rating'],ted_df['views']/1000000,'o', ted_df['fasc_rating'], line)\n",
    "plt.scatter(ted_df['fasc_rating'], ted_df['views']/1000000)\n",
    "plt.ylabel('Number of Views (millions)')\n",
    "plt.xlabel('Fascinating Rating Count')\n",
    "plt.title('Number of Views Versus Fascinating Rating Count')"
   ]
  },
  {
   "cell_type": "markdown",
   "metadata": {},
   "source": [
    "### It looks like there is a relationship for each rating buzzword!\n",
    "The data points and regression lines all indicate a positive relationship between our buzzwords and the number of views. It makes sense that the more people who describe a video as funny, the more views it will likely receive. Now that we have this information, let's train a model to predict view count based on buzzword totals!"
   ]
  },
  {
   "cell_type": "code",
   "execution_count": 16,
   "metadata": {},
   "outputs": [],
   "source": [
    "#Train a machine learning model to estimate the amount of views based on buzzword counts\n",
    "#split the data into train and test data\n",
    "train, test = train_test_split(ted_df, test_size=0.2)\n",
    "#create our model object\n",
    "clf = LinearRegression()\n",
    "#train the model on the training data and then make a prediction for the test data\n",
    "clf.fit(train[['insp_rating', 'fun_rating', 'inf_rating', 'fasc_rating']], train['views'])\n",
    "predicted = clf.predict(test[['insp_rating', 'fun_rating', 'inf_rating', 'fasc_rating']])"
   ]
  },
  {
   "cell_type": "code",
   "execution_count": 22,
   "metadata": {},
   "outputs": [
    {
     "data": {
      "text/plain": [
       "<matplotlib.legend.Legend at 0x7fb4d32f67f0>"
      ]
     },
     "execution_count": 22,
     "metadata": {},
     "output_type": "execute_result"
    },
    {
     "data": {
      "image/png": "[encoded data removed]",
      "text/plain": [
       "<Figure size 432x288 with 1 Axes>"
      ]
     },
     "metadata": {},
     "output_type": "display_data"
    }
   ],
   "source": [
    "#Plot the test data as a score along with the predicted values. Observe the linear relationship!\n",
    "a = plt.scatter(test['insp_rating']+test['fun_rating']+test['inf_rating']+test['fasc_rating'], predicted/1000000)\n",
    "b = plt.scatter(test['insp_rating']+test['fun_rating']+test['inf_rating']+test['fasc_rating'], test['views']/1000000)\n",
    "plt.ylabel('Number of Views (millions)')\n",
    "plt.xlabel('Total Rating Score')\n",
    "plt.title('Predicted Number of Views Versus Total Rating Score')\n",
    "plt.legend((a, b), ('Predicted', 'Real'))"
   ]
  },
  {
   "cell_type": "markdown",
   "metadata": {},
   "source": [
    "The above output indicates that we have predicted the data in a similar pattern to the original test data! With the predictions mapped in blue, and the orignial data in orange, it is evident that out model can predict views moderately well from these buzzwords. One observation that jumps out is that our model is bad at mapping outliers, and preficts most of its points close to the imaginary line of best fit for the blue markings."
   ]
  },
  {
   "cell_type": "code",
   "execution_count": 23,
   "metadata": {},
   "outputs": [],
   "source": [
    "#Train a machine learning model to estimate the amount of comments based on buzzword counts\n",
    "clf2 = LinearRegression()\n",
    "clf2.fit(train[['insp_rating', 'fun_rating', 'inf_rating', 'fasc_rating']], train['comments'])\n",
    "predicted2 = clf2.predict(test[['insp_rating', 'fun_rating', 'inf_rating', 'fasc_rating']])"
   ]
  },
  {
   "cell_type": "code",
   "execution_count": 24,
   "metadata": {},
   "outputs": [
    {
     "data": {
      "text/plain": [
       "<matplotlib.legend.Legend at 0x7fb4d32cff60>"
      ]
     },
     "execution_count": 24,
     "metadata": {},
     "output_type": "execute_result"
    },
    {
     "data": {
      "image/png": "[encoded data removed]",
      "text/plain": [
       "<Figure size 432x288 with 1 Axes>"
      ]
     },
     "metadata": {},
     "output_type": "display_data"
    }
   ],
   "source": [
    "a2 = plt.scatter(test['insp_rating']+test['fun_rating']+test['inf_rating']+test['fasc_rating'], predicted2)\n",
    "b2 = plt.scatter(test['insp_rating']+test['fun_rating']+test['inf_rating']+test['fasc_rating'], test['comments'])\n",
    "plt.ylabel('Number of Comments')\n",
    "plt.xlabel('Total Rating Score')\n",
    "plt.title('Predicted Number of Comments Versus Total Rating Score')\n",
    "plt.legend((a2, b2), ('Predicted', 'Real'))"
   ]
  },
  {
   "cell_type": "markdown",
   "metadata": {},
   "source": [
    "# Step 5: Insights and Conclusions\n",
    "\n",
    "Even though you may feel as thought you have finished once you have all your graphs and models, there is still insight to be drawn. Using what you have creaed it is imperative that you can put it into context and find value in what you have extracted. \n",
    "\n",
    "#### Ask yourself: what can we learn?\n",
    "\n",
    "Our graphs from Step 3, although simple can give us some useful information. \n",
    "\n",
    "- It is clear the first bar graph shows February as being the peak time for giving TedTalks. In context, this could be useful for a marketing team to amp up TedTalks given in other months as to spread around their events and engage the maximum amount of people year round. \n",
    "\n",
    "- Our next bar graph tells us that between 2010 and 2013, TedTalks were booming, with a significant increase in events during 2009. We can also see a dip beginning in 2014, indicating some event since the numbers never rose again. \n",
    "\n",
    "- The pi chart shows a significant portion of the comments being made between those peak years. Visualizing data in a pi chart gives the viewer a physical idea of how proportions are distributed in the data. \n",
    "\n",
    "- For the simple scatter plot, we can see a consensed bit of data with views under 10 million are spread out acorss languages. However, there are still significant data points that show videos with more language options also have more views. We can see based off this chart the begginings of a linear relationship, adding an additional linear regression line would help better view this positive correlation. \n",
    "\n",
    "During the Machine Learning portion in Step 4, we can gain even more knowledge about this data:\n",
    "\n",
    "- First we showed a scatter plot with the added linear regression line. For the ratings on Inspiration, Fascinating, Funny, and Informative, we can see that there are more views for higher ratings. The LR line helps to visualize this trend and can give us some indication of future predictions. \n",
    "\n",
    "- After we trained a model on this data, we were able to get some more riveting insight. Our graph shows what the view count would be if videos had a very large combined rating score. We can see that our model remained pretty linear with some variation and is similar yet more refined to the real data. \n",
    "\n",
    "- There is also definitly a strong relationship between comments and ratings. The model we fit gives a great representation of how ratings will predict amount of comments on a TedTalk. \n",
    "\n",
    "### Future Work with This Dataset\n",
    "\n",
    "After spending some time with this dataset there are definitly more relationships to be found and more insight to draw. For the machine learning portion of this tutorial we only focused on four rating words however there are significantly more words and descriptions that we can pull from to learn more about how ratings effect TedTalk views. It would be interesting to see how more negatively associated words would effect comments and views and how TedTalk can change their strategy to lower these ratings. There were not very many negative words included in this dataset however if TedTalk did decide to allow users to rate on words like \"Boring\" or \"Uninteresting\", data scientist would be able to figure out how this is effecting their overall view count and how they can improve their numbers elsewhere. \n",
    "\n",
    "### Lastly, here are some links to our favorite TedTalks from completing this tutorial, Enjoy!\n",
    "\n",
    "## https://www.ted.com/talks/brene_brown_on_vulnerability\n",
    "\n",
    "## https://www.ted.com/talks/tim_urban_inside_the_mind_of_a_master_procrastinator\n",
    "\n"
   ]
  },
  {
   "cell_type": "code",
   "execution_count": null,
   "metadata": {},
   "outputs": [],
   "source": []
  }
 ],
 "metadata": {
  "kernelspec": {
   "display_name": "Python 3",
   "language": "python",
   "name": "python3"
  },
  "language_info": {
   "codemirror_mode": {
    "name": "ipython",
    "version": 3
   },
   "file_extension": ".py",
   "mimetype": "text/x-python",
   "name": "python",
   "nbconvert_exporter": "python",
   "pygments_lexer": "ipython3",
   "version": "3.6.3"
  }
 },
 "nbformat": 4,
 "nbformat_minor": 2
}
